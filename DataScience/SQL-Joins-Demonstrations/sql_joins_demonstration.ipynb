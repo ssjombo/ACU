{
 "cells": [
  {
   "cell_type": "markdown",
   "id": "27124c31",
   "metadata": {},
   "source": [
    "# SQL Joins Demonstration\n",
    "\n",
    "This notebook demonstrates various types of SQL joins using SQLAlchemy, pandas, and matplotlib for visualization. \n",
    "\n",
    "1. **INNER JOIN**: Returns only matching rows between tables\n",
    "2. **LEFT JOIN**: Returns all rows from the left table and matching rows from the right\n",
    "3. **RIGHT JOIN**: Returns all rows from the right table and matching rows from the left\n",
    "4. **FULL OUTER JOIN**: Returns all rows from both tables\n",
    "5. **CROSS JOIN**: Returns the Cartesian product of both tables\n",
    "6. **SELF JOIN**: Joins a table to itself to establish relationships within the data\n",
    "7. **NATURAL JOIN**: Automatically joins tables based on columns with matching names\n",
    "8. **NON-EQUI JOIN**: Uses comparison operators other than equality for join conditions"
   ]
  },
  {
   "cell_type": "markdown",
   "id": "eeb0a242",
   "metadata": {},
   "source": [
    "# 2. Insatall Required Libraries\n",
    "\n",
    "First, let's check if the requirements.txt file exists in our current directory."
   ]
  },
  {
   "cell_type": "code",
   "execution_count": 88,
   "id": "2a740ff7",
   "metadata": {},
   "outputs": [
    {
     "name": "stdout",
     "output_type": "stream",
     "text": [
      "Requirement already satisfied: pandas in ./.venv/lib/python3.13/site-packages (2.3.0)\n",
      "Requirement already satisfied: numpy>=1.26.0 in ./.venv/lib/python3.13/site-packages (from pandas) (2.3.0)\n",
      "Requirement already satisfied: python-dateutil>=2.8.2 in ./.venv/lib/python3.13/site-packages (from pandas) (2.9.0.post0)\n",
      "Requirement already satisfied: pytz>=2020.1 in ./.venv/lib/python3.13/site-packages (from pandas) (2025.2)\n",
      "Requirement already satisfied: tzdata>=2022.7 in ./.venv/lib/python3.13/site-packages (from pandas) (2025.2)\n",
      "Requirement already satisfied: six>=1.5 in ./.venv/lib/python3.13/site-packages (from python-dateutil>=2.8.2->pandas) (1.17.0)\n",
      "Requirement already satisfied: python-dateutil>=2.8.2 in ./.venv/lib/python3.13/site-packages (from pandas) (2.9.0.post0)\n",
      "Requirement already satisfied: pytz>=2020.1 in ./.venv/lib/python3.13/site-packages (from pandas) (2025.2)\n",
      "Requirement already satisfied: tzdata>=2022.7 in ./.venv/lib/python3.13/site-packages (from pandas) (2025.2)\n",
      "Requirement already satisfied: six>=1.5 in ./.venv/lib/python3.13/site-packages (from python-dateutil>=2.8.2->pandas) (1.17.0)\n",
      "Requirement already satisfied: SQLAlchemy in ./.venv/lib/python3.13/site-packages (2.0.41)\n",
      "Requirement already satisfied: typing-extensions>=4.6.0 in ./.venv/lib/python3.13/site-packages (from SQLAlchemy) (4.14.0)\n",
      "Requirement already satisfied: SQLAlchemy in ./.venv/lib/python3.13/site-packages (2.0.41)\n",
      "Requirement already satisfied: typing-extensions>=4.6.0 in ./.venv/lib/python3.13/site-packages (from SQLAlchemy) (4.14.0)\n",
      "Requirement already satisfied: ipython in ./.venv/lib/python3.13/site-packages (9.3.0)\n",
      "Requirement already satisfied: decorator in ./.venv/lib/python3.13/site-packages (from ipython) (5.2.1)\n",
      "Requirement already satisfied: ipython-pygments-lexers in ./.venv/lib/python3.13/site-packages (from ipython) (1.1.1)\n",
      "Requirement already satisfied: jedi>=0.16 in ./.venv/lib/python3.13/site-packages (from ipython) (0.19.2)\n",
      "Requirement already satisfied: matplotlib-inline in ./.venv/lib/python3.13/site-packages (from ipython) (0.1.7)\n",
      "Requirement already satisfied: pexpect>4.3 in ./.venv/lib/python3.13/site-packages (from ipython) (4.9.0)\n",
      "Requirement already satisfied: prompt_toolkit<3.1.0,>=3.0.41 in ./.venv/lib/python3.13/site-packages (from ipython) (3.0.51)\n",
      "Requirement already satisfied: pygments>=2.4.0 in ./.venv/lib/python3.13/site-packages (from ipython) (2.19.1)\n",
      "Requirement already satisfied: stack_data in ./.venv/lib/python3.13/site-packages (from ipython) (0.6.3)\n",
      "Requirement already satisfied: traitlets>=5.13.0 in ./.venv/lib/python3.13/site-packages (from ipython) (5.14.3)\n",
      "Requirement already satisfied: wcwidth in ./.venv/lib/python3.13/site-packages (from prompt_toolkit<3.1.0,>=3.0.41->ipython) (0.2.13)\n",
      "Requirement already satisfied: parso<0.9.0,>=0.8.4 in ./.venv/lib/python3.13/site-packages (from jedi>=0.16->ipython) (0.8.4)\n",
      "Requirement already satisfied: ptyprocess>=0.5 in ./.venv/lib/python3.13/site-packages (from pexpect>4.3->ipython) (0.7.0)\n",
      "Requirement already satisfied: executing>=1.2.0 in ./.venv/lib/python3.13/site-packages (from stack_data->ipython) (2.2.0)\n",
      "Requirement already satisfied: asttokens>=2.1.0 in ./.venv/lib/python3.13/site-packages (from stack_data->ipython) (3.0.0)\n",
      "Requirement already satisfied: pure-eval in ./.venv/lib/python3.13/site-packages (from stack_data->ipython) (0.2.3)\n",
      "Requirement already satisfied: ipython in ./.venv/lib/python3.13/site-packages (9.3.0)\n",
      "Requirement already satisfied: decorator in ./.venv/lib/python3.13/site-packages (from ipython) (5.2.1)\n",
      "Requirement already satisfied: ipython-pygments-lexers in ./.venv/lib/python3.13/site-packages (from ipython) (1.1.1)\n",
      "Requirement already satisfied: jedi>=0.16 in ./.venv/lib/python3.13/site-packages (from ipython) (0.19.2)\n",
      "Requirement already satisfied: matplotlib-inline in ./.venv/lib/python3.13/site-packages (from ipython) (0.1.7)\n",
      "Requirement already satisfied: pexpect>4.3 in ./.venv/lib/python3.13/site-packages (from ipython) (4.9.0)\n",
      "Requirement already satisfied: prompt_toolkit<3.1.0,>=3.0.41 in ./.venv/lib/python3.13/site-packages (from ipython) (3.0.51)\n",
      "Requirement already satisfied: pygments>=2.4.0 in ./.venv/lib/python3.13/site-packages (from ipython) (2.19.1)\n",
      "Requirement already satisfied: stack_data in ./.venv/lib/python3.13/site-packages (from ipython) (0.6.3)\n",
      "Requirement already satisfied: traitlets>=5.13.0 in ./.venv/lib/python3.13/site-packages (from ipython) (5.14.3)\n",
      "Requirement already satisfied: wcwidth in ./.venv/lib/python3.13/site-packages (from prompt_toolkit<3.1.0,>=3.0.41->ipython) (0.2.13)\n",
      "Requirement already satisfied: parso<0.9.0,>=0.8.4 in ./.venv/lib/python3.13/site-packages (from jedi>=0.16->ipython) (0.8.4)\n",
      "Requirement already satisfied: ptyprocess>=0.5 in ./.venv/lib/python3.13/site-packages (from pexpect>4.3->ipython) (0.7.0)\n",
      "Requirement already satisfied: executing>=1.2.0 in ./.venv/lib/python3.13/site-packages (from stack_data->ipython) (2.2.0)\n",
      "Requirement already satisfied: asttokens>=2.1.0 in ./.venv/lib/python3.13/site-packages (from stack_data->ipython) (3.0.0)\n",
      "Requirement already satisfied: pure-eval in ./.venv/lib/python3.13/site-packages (from stack_data->ipython) (0.2.3)\n",
      "Requirement already satisfied: jupyter in ./.venv/lib/python3.13/site-packages (1.1.1)\n",
      "Requirement already satisfied: notebook in ./.venv/lib/python3.13/site-packages (from jupyter) (7.4.3)\n",
      "Requirement already satisfied: jupyter-console in ./.venv/lib/python3.13/site-packages (from jupyter) (6.6.3)\n",
      "Requirement already satisfied: nbconvert in ./.venv/lib/python3.13/site-packages (from jupyter) (7.16.6)\n",
      "Requirement already satisfied: ipykernel in ./.venv/lib/python3.13/site-packages (from jupyter) (6.29.5)\n",
      "Requirement already satisfied: ipywidgets in ./.venv/lib/python3.13/site-packages (from jupyter) (8.1.7)\n",
      "Requirement already satisfied: jupyterlab in ./.venv/lib/python3.13/site-packages (from jupyter) (4.4.3)\n",
      "Requirement already satisfied: appnope in ./.venv/lib/python3.13/site-packages (from ipykernel->jupyter) (0.1.4)\n",
      "Requirement already satisfied: comm>=0.1.1 in ./.venv/lib/python3.13/site-packages (from ipykernel->jupyter) (0.2.2)\n",
      "Requirement already satisfied: debugpy>=1.6.5 in ./.venv/lib/python3.13/site-packages (from ipykernel->jupyter) (1.8.14)\n",
      "Requirement already satisfied: ipython>=7.23.1 in ./.venv/lib/python3.13/site-packages (from ipykernel->jupyter) (9.3.0)\n",
      "Requirement already satisfied: jupyter-client>=6.1.12 in ./.venv/lib/python3.13/site-packages (from ipykernel->jupyter) (8.6.3)\n",
      "Requirement already satisfied: jupyter-core!=5.0.*,>=4.12 in ./.venv/lib/python3.13/site-packages (from ipykernel->jupyter) (5.8.1)\n",
      "Requirement already satisfied: matplotlib-inline>=0.1 in ./.venv/lib/python3.13/site-packages (from ipykernel->jupyter) (0.1.7)\n",
      "Requirement already satisfied: nest-asyncio in ./.venv/lib/python3.13/site-packages (from ipykernel->jupyter) (1.6.0)\n",
      "Requirement already satisfied: packaging in ./.venv/lib/python3.13/site-packages (from ipykernel->jupyter) (25.0)\n",
      "Requirement already satisfied: psutil in ./.venv/lib/python3.13/site-packages (from ipykernel->jupyter) (7.0.0)\n",
      "Requirement already satisfied: pyzmq>=24 in ./.venv/lib/python3.13/site-packages (from ipykernel->jupyter) (27.0.0)\n",
      "Requirement already satisfied: tornado>=6.1 in ./.venv/lib/python3.13/site-packages (from ipykernel->jupyter) (6.5.1)\n",
      "Requirement already satisfied: traitlets>=5.4.0 in ./.venv/lib/python3.13/site-packages (from ipykernel->jupyter) (5.14.3)\n",
      "Requirement already satisfied: decorator in ./.venv/lib/python3.13/site-packages (from ipython>=7.23.1->ipykernel->jupyter) (5.2.1)\n",
      "Requirement already satisfied: ipython-pygments-lexers in ./.venv/lib/python3.13/site-packages (from ipython>=7.23.1->ipykernel->jupyter) (1.1.1)\n",
      "Requirement already satisfied: jedi>=0.16 in ./.venv/lib/python3.13/site-packages (from ipython>=7.23.1->ipykernel->jupyter) (0.19.2)\n",
      "Requirement already satisfied: pexpect>4.3 in ./.venv/lib/python3.13/site-packages (from ipython>=7.23.1->ipykernel->jupyter) (4.9.0)\n",
      "Requirement already satisfied: prompt_toolkit<3.1.0,>=3.0.41 in ./.venv/lib/python3.13/site-packages (from ipython>=7.23.1->ipykernel->jupyter) (3.0.51)\n",
      "Requirement already satisfied: pygments>=2.4.0 in ./.venv/lib/python3.13/site-packages (from ipython>=7.23.1->ipykernel->jupyter) (2.19.1)\n",
      "Requirement already satisfied: stack_data in ./.venv/lib/python3.13/site-packages (from ipython>=7.23.1->ipykernel->jupyter) (0.6.3)\n",
      "Requirement already satisfied: wcwidth in ./.venv/lib/python3.13/site-packages (from prompt_toolkit<3.1.0,>=3.0.41->ipython>=7.23.1->ipykernel->jupyter) (0.2.13)\n",
      "Requirement already satisfied: parso<0.9.0,>=0.8.4 in ./.venv/lib/python3.13/site-packages (from jedi>=0.16->ipython>=7.23.1->ipykernel->jupyter) (0.8.4)\n",
      "Requirement already satisfied: python-dateutil>=2.8.2 in ./.venv/lib/python3.13/site-packages (from jupyter-client>=6.1.12->ipykernel->jupyter) (2.9.0.post0)\n",
      "Requirement already satisfied: platformdirs>=2.5 in ./.venv/lib/python3.13/site-packages (from jupyter-core!=5.0.*,>=4.12->ipykernel->jupyter) (4.3.8)\n",
      "Requirement already satisfied: ptyprocess>=0.5 in ./.venv/lib/python3.13/site-packages (from pexpect>4.3->ipython>=7.23.1->ipykernel->jupyter) (0.7.0)\n",
      "Requirement already satisfied: six>=1.5 in ./.venv/lib/python3.13/site-packages (from python-dateutil>=2.8.2->jupyter-client>=6.1.12->ipykernel->jupyter) (1.17.0)\n",
      "Requirement already satisfied: widgetsnbextension~=4.0.14 in ./.venv/lib/python3.13/site-packages (from ipywidgets->jupyter) (4.0.14)\n",
      "Requirement already satisfied: jupyterlab_widgets~=3.0.15 in ./.venv/lib/python3.13/site-packages (from ipywidgets->jupyter) (3.0.15)\n",
      "Requirement already satisfied: async-lru>=1.0.0 in ./.venv/lib/python3.13/site-packages (from jupyterlab->jupyter) (2.0.5)\n",
      "Requirement already satisfied: httpx>=0.25.0 in ./.venv/lib/python3.13/site-packages (from jupyterlab->jupyter) (0.28.1)\n",
      "Requirement already satisfied: jupyter in ./.venv/lib/python3.13/site-packages (1.1.1)\n",
      "Requirement already satisfied: notebook in ./.venv/lib/python3.13/site-packages (from jupyter) (7.4.3)\n",
      "Requirement already satisfied: jupyter-console in ./.venv/lib/python3.13/site-packages (from jupyter) (6.6.3)\n",
      "Requirement already satisfied: nbconvert in ./.venv/lib/python3.13/site-packages (from jupyter) (7.16.6)\n",
      "Requirement already satisfied: ipykernel in ./.venv/lib/python3.13/site-packages (from jupyter) (6.29.5)\n",
      "Requirement already satisfied: ipywidgets in ./.venv/lib/python3.13/site-packages (from jupyter) (8.1.7)\n",
      "Requirement already satisfied: jupyterlab in ./.venv/lib/python3.13/site-packages (from jupyter) (4.4.3)\n",
      "Requirement already satisfied: appnope in ./.venv/lib/python3.13/site-packages (from ipykernel->jupyter) (0.1.4)\n",
      "Requirement already satisfied: comm>=0.1.1 in ./.venv/lib/python3.13/site-packages (from ipykernel->jupyter) (0.2.2)\n",
      "Requirement already satisfied: debugpy>=1.6.5 in ./.venv/lib/python3.13/site-packages (from ipykernel->jupyter) (1.8.14)\n",
      "Requirement already satisfied: ipython>=7.23.1 in ./.venv/lib/python3.13/site-packages (from ipykernel->jupyter) (9.3.0)\n",
      "Requirement already satisfied: jupyter-client>=6.1.12 in ./.venv/lib/python3.13/site-packages (from ipykernel->jupyter) (8.6.3)\n",
      "Requirement already satisfied: jupyter-core!=5.0.*,>=4.12 in ./.venv/lib/python3.13/site-packages (from ipykernel->jupyter) (5.8.1)\n",
      "Requirement already satisfied: matplotlib-inline>=0.1 in ./.venv/lib/python3.13/site-packages (from ipykernel->jupyter) (0.1.7)\n",
      "Requirement already satisfied: nest-asyncio in ./.venv/lib/python3.13/site-packages (from ipykernel->jupyter) (1.6.0)\n",
      "Requirement already satisfied: packaging in ./.venv/lib/python3.13/site-packages (from ipykernel->jupyter) (25.0)\n",
      "Requirement already satisfied: psutil in ./.venv/lib/python3.13/site-packages (from ipykernel->jupyter) (7.0.0)\n",
      "Requirement already satisfied: pyzmq>=24 in ./.venv/lib/python3.13/site-packages (from ipykernel->jupyter) (27.0.0)\n",
      "Requirement already satisfied: tornado>=6.1 in ./.venv/lib/python3.13/site-packages (from ipykernel->jupyter) (6.5.1)\n",
      "Requirement already satisfied: traitlets>=5.4.0 in ./.venv/lib/python3.13/site-packages (from ipykernel->jupyter) (5.14.3)\n",
      "Requirement already satisfied: decorator in ./.venv/lib/python3.13/site-packages (from ipython>=7.23.1->ipykernel->jupyter) (5.2.1)\n",
      "Requirement already satisfied: ipython-pygments-lexers in ./.venv/lib/python3.13/site-packages (from ipython>=7.23.1->ipykernel->jupyter) (1.1.1)\n",
      "Requirement already satisfied: jedi>=0.16 in ./.venv/lib/python3.13/site-packages (from ipython>=7.23.1->ipykernel->jupyter) (0.19.2)\n",
      "Requirement already satisfied: pexpect>4.3 in ./.venv/lib/python3.13/site-packages (from ipython>=7.23.1->ipykernel->jupyter) (4.9.0)\n",
      "Requirement already satisfied: prompt_toolkit<3.1.0,>=3.0.41 in ./.venv/lib/python3.13/site-packages (from ipython>=7.23.1->ipykernel->jupyter) (3.0.51)\n",
      "Requirement already satisfied: pygments>=2.4.0 in ./.venv/lib/python3.13/site-packages (from ipython>=7.23.1->ipykernel->jupyter) (2.19.1)\n",
      "Requirement already satisfied: stack_data in ./.venv/lib/python3.13/site-packages (from ipython>=7.23.1->ipykernel->jupyter) (0.6.3)\n",
      "Requirement already satisfied: wcwidth in ./.venv/lib/python3.13/site-packages (from prompt_toolkit<3.1.0,>=3.0.41->ipython>=7.23.1->ipykernel->jupyter) (0.2.13)\n",
      "Requirement already satisfied: parso<0.9.0,>=0.8.4 in ./.venv/lib/python3.13/site-packages (from jedi>=0.16->ipython>=7.23.1->ipykernel->jupyter) (0.8.4)\n",
      "Requirement already satisfied: python-dateutil>=2.8.2 in ./.venv/lib/python3.13/site-packages (from jupyter-client>=6.1.12->ipykernel->jupyter) (2.9.0.post0)\n",
      "Requirement already satisfied: platformdirs>=2.5 in ./.venv/lib/python3.13/site-packages (from jupyter-core!=5.0.*,>=4.12->ipykernel->jupyter) (4.3.8)\n",
      "Requirement already satisfied: ptyprocess>=0.5 in ./.venv/lib/python3.13/site-packages (from pexpect>4.3->ipython>=7.23.1->ipykernel->jupyter) (0.7.0)\n",
      "Requirement already satisfied: six>=1.5 in ./.venv/lib/python3.13/site-packages (from python-dateutil>=2.8.2->jupyter-client>=6.1.12->ipykernel->jupyter) (1.17.0)\n",
      "Requirement already satisfied: widgetsnbextension~=4.0.14 in ./.venv/lib/python3.13/site-packages (from ipywidgets->jupyter) (4.0.14)\n",
      "Requirement already satisfied: jupyterlab_widgets~=3.0.15 in ./.venv/lib/python3.13/site-packages (from ipywidgets->jupyter) (3.0.15)\n",
      "Requirement already satisfied: async-lru>=1.0.0 in ./.venv/lib/python3.13/site-packages (from jupyterlab->jupyter) (2.0.5)\n",
      "Requirement already satisfied: httpx>=0.25.0 in ./.venv/lib/python3.13/site-packages (from jupyterlab->jupyter) (0.28.1)\n",
      "Requirement already satisfied: jinja2>=3.0.3 in ./.venv/lib/python3.13/site-packages (from jupyterlab->jupyter) (3.1.6)\n",
      "Requirement already satisfied: jupyter-lsp>=2.0.0 in ./.venv/lib/python3.13/site-packages (from jupyterlab->jupyter) (2.2.5)\n",
      "Requirement already satisfied: jupyter-server<3,>=2.4.0 in ./.venv/lib/python3.13/site-packages (from jupyterlab->jupyter) (2.16.0)\n",
      "Requirement already satisfied: jupyterlab-server<3,>=2.27.1 in ./.venv/lib/python3.13/site-packages (from jupyterlab->jupyter) (2.27.3)\n",
      "Requirement already satisfied: notebook-shim>=0.2 in ./.venv/lib/python3.13/site-packages (from jupyterlab->jupyter) (0.2.4)\n",
      "Requirement already satisfied: setuptools>=41.1.0 in ./.venv/lib/python3.13/site-packages (from jupyterlab->jupyter) (80.9.0)\n",
      "Requirement already satisfied: anyio>=3.1.0 in ./.venv/lib/python3.13/site-packages (from jupyter-server<3,>=2.4.0->jupyterlab->jupyter) (4.9.0)\n",
      "Requirement already satisfied: argon2-cffi>=21.1 in ./.venv/lib/python3.13/site-packages (from jupyter-server<3,>=2.4.0->jupyterlab->jupyter) (25.1.0)\n",
      "Requirement already satisfied: jupyter-events>=0.11.0 in ./.venv/lib/python3.13/site-packages (from jupyter-server<3,>=2.4.0->jupyterlab->jupyter) (0.12.0)\n",
      "Requirement already satisfied: jupyter-server-terminals>=0.4.4 in ./.venv/lib/python3.13/site-packages (from jupyter-server<3,>=2.4.0->jupyterlab->jupyter) (0.5.3)\n",
      "Requirement already satisfied: nbformat>=5.3.0 in ./.venv/lib/python3.13/site-packages (from jupyter-server<3,>=2.4.0->jupyterlab->jupyter) (5.10.4)\n",
      "Requirement already satisfied: overrides>=5.0 in ./.venv/lib/python3.13/site-packages (from jupyter-server<3,>=2.4.0->jupyterlab->jupyter) (7.7.0)\n",
      "Requirement already satisfied: prometheus-client>=0.9 in ./.venv/lib/python3.13/site-packages (from jupyter-server<3,>=2.4.0->jupyterlab->jupyter) (0.22.1)\n",
      "Requirement already satisfied: send2trash>=1.8.2 in ./.venv/lib/python3.13/site-packages (from jupyter-server<3,>=2.4.0->jupyterlab->jupyter) (1.8.3)\n",
      "Requirement already satisfied: terminado>=0.8.3 in ./.venv/lib/python3.13/site-packages (from jupyter-server<3,>=2.4.0->jupyterlab->jupyter) (0.18.1)\n",
      "Requirement already satisfied: websocket-client>=1.7 in ./.venv/lib/python3.13/site-packages (from jupyter-server<3,>=2.4.0->jupyterlab->jupyter) (1.8.0)\n",
      "Requirement already satisfied: babel>=2.10 in ./.venv/lib/python3.13/site-packages (from jupyterlab-server<3,>=2.27.1->jupyterlab->jupyter) (2.17.0)\n",
      "Requirement already satisfied: json5>=0.9.0 in ./.venv/lib/python3.13/site-packages (from jupyterlab-server<3,>=2.27.1->jupyterlab->jupyter) (0.12.0)\n",
      "Requirement already satisfied: jsonschema>=4.18.0 in ./.venv/lib/python3.13/site-packages (from jupyterlab-server<3,>=2.27.1->jupyterlab->jupyter) (4.24.0)\n",
      "Requirement already satisfied: requests>=2.31 in ./.venv/lib/python3.13/site-packages (from jupyterlab-server<3,>=2.27.1->jupyterlab->jupyter) (2.32.4)\n",
      "Requirement already satisfied: idna>=2.8 in ./.venv/lib/python3.13/site-packages (from anyio>=3.1.0->jupyter-server<3,>=2.4.0->jupyterlab->jupyter) (3.10)\n",
      "Requirement already satisfied: sniffio>=1.1 in ./.venv/lib/python3.13/site-packages (from anyio>=3.1.0->jupyter-server<3,>=2.4.0->jupyterlab->jupyter) (1.3.1)\n",
      "Requirement already satisfied: argon2-cffi-bindings in ./.venv/lib/python3.13/site-packages (from argon2-cffi>=21.1->jupyter-server<3,>=2.4.0->jupyterlab->jupyter) (21.2.0)\n",
      "Requirement already satisfied: certifi in ./.venv/lib/python3.13/site-packages (from httpx>=0.25.0->jupyterlab->jupyter) (2025.6.15)\n",
      "Requirement already satisfied: httpcore==1.* in ./.venv/lib/python3.13/site-packages (from httpx>=0.25.0->jupyterlab->jupyter) (1.0.9)\n",
      "Requirement already satisfied: h11>=0.16 in ./.venv/lib/python3.13/site-packages (from httpcore==1.*->httpx>=0.25.0->jupyterlab->jupyter) (0.16.0)\n",
      "Requirement already satisfied: MarkupSafe>=2.0 in ./.venv/lib/python3.13/site-packages (from jinja2>=3.0.3->jupyterlab->jupyter) (3.0.2)\n",
      "Requirement already satisfied: attrs>=22.2.0 in ./.venv/lib/python3.13/site-packages (from jsonschema>=4.18.0->jupyterlab-server<3,>=2.27.1->jupyterlab->jupyter) (25.3.0)\n",
      "Requirement already satisfied: jsonschema-specifications>=2023.03.6 in ./.venv/lib/python3.13/site-packages (from jsonschema>=4.18.0->jupyterlab-server<3,>=2.27.1->jupyterlab->jupyter) (2025.4.1)\n",
      "Requirement already satisfied: referencing>=0.28.4 in ./.venv/lib/python3.13/site-packages (from jsonschema>=4.18.0->jupyterlab-server<3,>=2.27.1->jupyterlab->jupyter) (0.36.2)\n",
      "Requirement already satisfied: rpds-py>=0.7.1 in ./.venv/lib/python3.13/site-packages (from jsonschema>=4.18.0->jupyterlab-server<3,>=2.27.1->jupyterlab->jupyter) (0.25.1)\n",
      "Requirement already satisfied: python-json-logger>=2.0.4 in ./.venv/lib/python3.13/site-packages (from jupyter-events>=0.11.0->jupyter-server<3,>=2.4.0->jupyterlab->jupyter) (3.3.0)\n",
      "Requirement already satisfied: pyyaml>=5.3 in ./.venv/lib/python3.13/site-packages (from jupyter-events>=0.11.0->jupyter-server<3,>=2.4.0->jupyterlab->jupyter) (6.0.2)\n",
      "Requirement already satisfied: rfc3339-validator in ./.venv/lib/python3.13/site-packages (from jupyter-events>=0.11.0->jupyter-server<3,>=2.4.0->jupyterlab->jupyter) (0.1.4)\n",
      "Requirement already satisfied: rfc3986-validator>=0.1.1 in ./.venv/lib/python3.13/site-packages (from jupyter-events>=0.11.0->jupyter-server<3,>=2.4.0->jupyterlab->jupyter) (0.1.1)\n",
      "Requirement already satisfied: fqdn in ./.venv/lib/python3.13/site-packages (from jsonschema[format-nongpl]>=4.18.0->jupyter-events>=0.11.0->jupyter-server<3,>=2.4.0->jupyterlab->jupyter) (1.5.1)\n",
      "Requirement already satisfied: isoduration in ./.venv/lib/python3.13/site-packages (from jsonschema[format-nongpl]>=4.18.0->jupyter-events>=0.11.0->jupyter-server<3,>=2.4.0->jupyterlab->jupyter) (20.11.0)\n",
      "Requirement already satisfied: jsonpointer>1.13 in ./.venv/lib/python3.13/site-packages (from jsonschema[format-nongpl]>=4.18.0->jupyter-events>=0.11.0->jupyter-server<3,>=2.4.0->jupyterlab->jupyter) (3.0.0)\n",
      "Requirement already satisfied: uri-template in ./.venv/lib/python3.13/site-packages (from jsonschema[format-nongpl]>=4.18.0->jupyter-events>=0.11.0->jupyter-server<3,>=2.4.0->jupyterlab->jupyter) (1.3.0)\n",
      "Requirement already satisfied: webcolors>=24.6.0 in ./.venv/lib/python3.13/site-packages (from jsonschema[format-nongpl]>=4.18.0->jupyter-events>=0.11.0->jupyter-server<3,>=2.4.0->jupyterlab->jupyter) (24.11.1)\n",
      "Requirement already satisfied: beautifulsoup4 in ./.venv/lib/python3.13/site-packages (from nbconvert->jupyter) (4.13.4)\n",
      "Requirement already satisfied: bleach!=5.0.0 in ./.venv/lib/python3.13/site-packages (from bleach[css]!=5.0.0->nbconvert->jupyter) (6.2.0)\n",
      "Requirement already satisfied: defusedxml in ./.venv/lib/python3.13/site-packages (from nbconvert->jupyter) (0.7.1)\n",
      "Requirement already satisfied: jupyterlab-pygments in ./.venv/lib/python3.13/site-packages (from nbconvert->jupyter) (0.3.0)\n",
      "Requirement already satisfied: mistune<4,>=2.0.3 in ./.venv/lib/python3.13/site-packages (from nbconvert->jupyter) (3.1.3)\n",
      "Requirement already satisfied: nbclient>=0.5.0 in ./.venv/lib/python3.13/site-packages (from nbconvert->jupyter) (0.10.2)\n",
      "Requirement already satisfied: pandocfilters>=1.4.1 in ./.venv/lib/python3.13/site-packages (from nbconvert->jupyter) (1.5.1)\n",
      "Requirement already satisfied: webencodings in ./.venv/lib/python3.13/site-packages (from bleach!=5.0.0->bleach[css]!=5.0.0->nbconvert->jupyter) (0.5.1)\n",
      "Requirement already satisfied: jinja2>=3.0.3 in ./.venv/lib/python3.13/site-packages (from jupyterlab->jupyter) (3.1.6)\n",
      "Requirement already satisfied: jupyter-lsp>=2.0.0 in ./.venv/lib/python3.13/site-packages (from jupyterlab->jupyter) (2.2.5)\n",
      "Requirement already satisfied: jupyter-server<3,>=2.4.0 in ./.venv/lib/python3.13/site-packages (from jupyterlab->jupyter) (2.16.0)\n",
      "Requirement already satisfied: jupyterlab-server<3,>=2.27.1 in ./.venv/lib/python3.13/site-packages (from jupyterlab->jupyter) (2.27.3)\n",
      "Requirement already satisfied: notebook-shim>=0.2 in ./.venv/lib/python3.13/site-packages (from jupyterlab->jupyter) (0.2.4)\n",
      "Requirement already satisfied: setuptools>=41.1.0 in ./.venv/lib/python3.13/site-packages (from jupyterlab->jupyter) (80.9.0)\n",
      "Requirement already satisfied: anyio>=3.1.0 in ./.venv/lib/python3.13/site-packages (from jupyter-server<3,>=2.4.0->jupyterlab->jupyter) (4.9.0)\n",
      "Requirement already satisfied: argon2-cffi>=21.1 in ./.venv/lib/python3.13/site-packages (from jupyter-server<3,>=2.4.0->jupyterlab->jupyter) (25.1.0)\n",
      "Requirement already satisfied: jupyter-events>=0.11.0 in ./.venv/lib/python3.13/site-packages (from jupyter-server<3,>=2.4.0->jupyterlab->jupyter) (0.12.0)\n",
      "Requirement already satisfied: jupyter-server-terminals>=0.4.4 in ./.venv/lib/python3.13/site-packages (from jupyter-server<3,>=2.4.0->jupyterlab->jupyter) (0.5.3)\n",
      "Requirement already satisfied: nbformat>=5.3.0 in ./.venv/lib/python3.13/site-packages (from jupyter-server<3,>=2.4.0->jupyterlab->jupyter) (5.10.4)\n",
      "Requirement already satisfied: overrides>=5.0 in ./.venv/lib/python3.13/site-packages (from jupyter-server<3,>=2.4.0->jupyterlab->jupyter) (7.7.0)\n",
      "Requirement already satisfied: prometheus-client>=0.9 in ./.venv/lib/python3.13/site-packages (from jupyter-server<3,>=2.4.0->jupyterlab->jupyter) (0.22.1)\n",
      "Requirement already satisfied: send2trash>=1.8.2 in ./.venv/lib/python3.13/site-packages (from jupyter-server<3,>=2.4.0->jupyterlab->jupyter) (1.8.3)\n",
      "Requirement already satisfied: terminado>=0.8.3 in ./.venv/lib/python3.13/site-packages (from jupyter-server<3,>=2.4.0->jupyterlab->jupyter) (0.18.1)\n",
      "Requirement already satisfied: websocket-client>=1.7 in ./.venv/lib/python3.13/site-packages (from jupyter-server<3,>=2.4.0->jupyterlab->jupyter) (1.8.0)\n",
      "Requirement already satisfied: babel>=2.10 in ./.venv/lib/python3.13/site-packages (from jupyterlab-server<3,>=2.27.1->jupyterlab->jupyter) (2.17.0)\n",
      "Requirement already satisfied: json5>=0.9.0 in ./.venv/lib/python3.13/site-packages (from jupyterlab-server<3,>=2.27.1->jupyterlab->jupyter) (0.12.0)\n",
      "Requirement already satisfied: jsonschema>=4.18.0 in ./.venv/lib/python3.13/site-packages (from jupyterlab-server<3,>=2.27.1->jupyterlab->jupyter) (4.24.0)\n",
      "Requirement already satisfied: requests>=2.31 in ./.venv/lib/python3.13/site-packages (from jupyterlab-server<3,>=2.27.1->jupyterlab->jupyter) (2.32.4)\n",
      "Requirement already satisfied: idna>=2.8 in ./.venv/lib/python3.13/site-packages (from anyio>=3.1.0->jupyter-server<3,>=2.4.0->jupyterlab->jupyter) (3.10)\n",
      "Requirement already satisfied: sniffio>=1.1 in ./.venv/lib/python3.13/site-packages (from anyio>=3.1.0->jupyter-server<3,>=2.4.0->jupyterlab->jupyter) (1.3.1)\n",
      "Requirement already satisfied: argon2-cffi-bindings in ./.venv/lib/python3.13/site-packages (from argon2-cffi>=21.1->jupyter-server<3,>=2.4.0->jupyterlab->jupyter) (21.2.0)\n",
      "Requirement already satisfied: certifi in ./.venv/lib/python3.13/site-packages (from httpx>=0.25.0->jupyterlab->jupyter) (2025.6.15)\n",
      "Requirement already satisfied: httpcore==1.* in ./.venv/lib/python3.13/site-packages (from httpx>=0.25.0->jupyterlab->jupyter) (1.0.9)\n",
      "Requirement already satisfied: h11>=0.16 in ./.venv/lib/python3.13/site-packages (from httpcore==1.*->httpx>=0.25.0->jupyterlab->jupyter) (0.16.0)\n",
      "Requirement already satisfied: MarkupSafe>=2.0 in ./.venv/lib/python3.13/site-packages (from jinja2>=3.0.3->jupyterlab->jupyter) (3.0.2)\n",
      "Requirement already satisfied: attrs>=22.2.0 in ./.venv/lib/python3.13/site-packages (from jsonschema>=4.18.0->jupyterlab-server<3,>=2.27.1->jupyterlab->jupyter) (25.3.0)\n",
      "Requirement already satisfied: jsonschema-specifications>=2023.03.6 in ./.venv/lib/python3.13/site-packages (from jsonschema>=4.18.0->jupyterlab-server<3,>=2.27.1->jupyterlab->jupyter) (2025.4.1)\n",
      "Requirement already satisfied: referencing>=0.28.4 in ./.venv/lib/python3.13/site-packages (from jsonschema>=4.18.0->jupyterlab-server<3,>=2.27.1->jupyterlab->jupyter) (0.36.2)\n",
      "Requirement already satisfied: rpds-py>=0.7.1 in ./.venv/lib/python3.13/site-packages (from jsonschema>=4.18.0->jupyterlab-server<3,>=2.27.1->jupyterlab->jupyter) (0.25.1)\n",
      "Requirement already satisfied: python-json-logger>=2.0.4 in ./.venv/lib/python3.13/site-packages (from jupyter-events>=0.11.0->jupyter-server<3,>=2.4.0->jupyterlab->jupyter) (3.3.0)\n",
      "Requirement already satisfied: pyyaml>=5.3 in ./.venv/lib/python3.13/site-packages (from jupyter-events>=0.11.0->jupyter-server<3,>=2.4.0->jupyterlab->jupyter) (6.0.2)\n",
      "Requirement already satisfied: rfc3339-validator in ./.venv/lib/python3.13/site-packages (from jupyter-events>=0.11.0->jupyter-server<3,>=2.4.0->jupyterlab->jupyter) (0.1.4)\n",
      "Requirement already satisfied: rfc3986-validator>=0.1.1 in ./.venv/lib/python3.13/site-packages (from jupyter-events>=0.11.0->jupyter-server<3,>=2.4.0->jupyterlab->jupyter) (0.1.1)\n",
      "Requirement already satisfied: fqdn in ./.venv/lib/python3.13/site-packages (from jsonschema[format-nongpl]>=4.18.0->jupyter-events>=0.11.0->jupyter-server<3,>=2.4.0->jupyterlab->jupyter) (1.5.1)\n",
      "Requirement already satisfied: isoduration in ./.venv/lib/python3.13/site-packages (from jsonschema[format-nongpl]>=4.18.0->jupyter-events>=0.11.0->jupyter-server<3,>=2.4.0->jupyterlab->jupyter) (20.11.0)\n",
      "Requirement already satisfied: jsonpointer>1.13 in ./.venv/lib/python3.13/site-packages (from jsonschema[format-nongpl]>=4.18.0->jupyter-events>=0.11.0->jupyter-server<3,>=2.4.0->jupyterlab->jupyter) (3.0.0)\n",
      "Requirement already satisfied: uri-template in ./.venv/lib/python3.13/site-packages (from jsonschema[format-nongpl]>=4.18.0->jupyter-events>=0.11.0->jupyter-server<3,>=2.4.0->jupyterlab->jupyter) (1.3.0)\n",
      "Requirement already satisfied: webcolors>=24.6.0 in ./.venv/lib/python3.13/site-packages (from jsonschema[format-nongpl]>=4.18.0->jupyter-events>=0.11.0->jupyter-server<3,>=2.4.0->jupyterlab->jupyter) (24.11.1)\n",
      "Requirement already satisfied: beautifulsoup4 in ./.venv/lib/python3.13/site-packages (from nbconvert->jupyter) (4.13.4)\n",
      "Requirement already satisfied: bleach!=5.0.0 in ./.venv/lib/python3.13/site-packages (from bleach[css]!=5.0.0->nbconvert->jupyter) (6.2.0)\n",
      "Requirement already satisfied: defusedxml in ./.venv/lib/python3.13/site-packages (from nbconvert->jupyter) (0.7.1)\n",
      "Requirement already satisfied: jupyterlab-pygments in ./.venv/lib/python3.13/site-packages (from nbconvert->jupyter) (0.3.0)\n",
      "Requirement already satisfied: mistune<4,>=2.0.3 in ./.venv/lib/python3.13/site-packages (from nbconvert->jupyter) (3.1.3)\n",
      "Requirement already satisfied: nbclient>=0.5.0 in ./.venv/lib/python3.13/site-packages (from nbconvert->jupyter) (0.10.2)\n",
      "Requirement already satisfied: pandocfilters>=1.4.1 in ./.venv/lib/python3.13/site-packages (from nbconvert->jupyter) (1.5.1)\n",
      "Requirement already satisfied: webencodings in ./.venv/lib/python3.13/site-packages (from bleach!=5.0.0->bleach[css]!=5.0.0->nbconvert->jupyter) (0.5.1)\n",
      "Requirement already satisfied: tinycss2<1.5,>=1.1.0 in ./.venv/lib/python3.13/site-packages (from bleach[css]!=5.0.0->nbconvert->jupyter) (1.4.0)\n",
      "Requirement already satisfied: fastjsonschema>=2.15 in ./.venv/lib/python3.13/site-packages (from nbformat>=5.3.0->jupyter-server<3,>=2.4.0->jupyterlab->jupyter) (2.21.1)\n",
      "Requirement already satisfied: charset_normalizer<4,>=2 in ./.venv/lib/python3.13/site-packages (from requests>=2.31->jupyterlab-server<3,>=2.27.1->jupyterlab->jupyter) (3.4.2)\n",
      "Requirement already satisfied: urllib3<3,>=1.21.1 in ./.venv/lib/python3.13/site-packages (from requests>=2.31->jupyterlab-server<3,>=2.27.1->jupyterlab->jupyter) (2.4.0)\n",
      "Requirement already satisfied: cffi>=1.0.1 in ./.venv/lib/python3.13/site-packages (from argon2-cffi-bindings->argon2-cffi>=21.1->jupyter-server<3,>=2.4.0->jupyterlab->jupyter) (1.17.1)\n",
      "Requirement already satisfied: pycparser in ./.venv/lib/python3.13/site-packages (from cffi>=1.0.1->argon2-cffi-bindings->argon2-cffi>=21.1->jupyter-server<3,>=2.4.0->jupyterlab->jupyter) (2.22)\n",
      "Requirement already satisfied: soupsieve>1.2 in ./.venv/lib/python3.13/site-packages (from beautifulsoup4->nbconvert->jupyter) (2.7)\n",
      "Requirement already satisfied: typing-extensions>=4.0.0 in ./.venv/lib/python3.13/site-packages (from beautifulsoup4->nbconvert->jupyter) (4.14.0)\n",
      "Requirement already satisfied: arrow>=0.15.0 in ./.venv/lib/python3.13/site-packages (from isoduration->jsonschema[format-nongpl]>=4.18.0->jupyter-events>=0.11.0->jupyter-server<3,>=2.4.0->jupyterlab->jupyter) (1.3.0)\n",
      "Requirement already satisfied: types-python-dateutil>=2.8.10 in ./.venv/lib/python3.13/site-packages (from arrow>=0.15.0->isoduration->jsonschema[format-nongpl]>=4.18.0->jupyter-events>=0.11.0->jupyter-server<3,>=2.4.0->jupyterlab->jupyter) (2.9.0.20250516)\n",
      "Requirement already satisfied: tinycss2<1.5,>=1.1.0 in ./.venv/lib/python3.13/site-packages (from bleach[css]!=5.0.0->nbconvert->jupyter) (1.4.0)\n",
      "Requirement already satisfied: fastjsonschema>=2.15 in ./.venv/lib/python3.13/site-packages (from nbformat>=5.3.0->jupyter-server<3,>=2.4.0->jupyterlab->jupyter) (2.21.1)\n",
      "Requirement already satisfied: charset_normalizer<4,>=2 in ./.venv/lib/python3.13/site-packages (from requests>=2.31->jupyterlab-server<3,>=2.27.1->jupyterlab->jupyter) (3.4.2)\n",
      "Requirement already satisfied: urllib3<3,>=1.21.1 in ./.venv/lib/python3.13/site-packages (from requests>=2.31->jupyterlab-server<3,>=2.27.1->jupyterlab->jupyter) (2.4.0)\n",
      "Requirement already satisfied: cffi>=1.0.1 in ./.venv/lib/python3.13/site-packages (from argon2-cffi-bindings->argon2-cffi>=21.1->jupyter-server<3,>=2.4.0->jupyterlab->jupyter) (1.17.1)\n",
      "Requirement already satisfied: pycparser in ./.venv/lib/python3.13/site-packages (from cffi>=1.0.1->argon2-cffi-bindings->argon2-cffi>=21.1->jupyter-server<3,>=2.4.0->jupyterlab->jupyter) (2.22)\n",
      "Requirement already satisfied: soupsieve>1.2 in ./.venv/lib/python3.13/site-packages (from beautifulsoup4->nbconvert->jupyter) (2.7)\n",
      "Requirement already satisfied: typing-extensions>=4.0.0 in ./.venv/lib/python3.13/site-packages (from beautifulsoup4->nbconvert->jupyter) (4.14.0)\n",
      "Requirement already satisfied: arrow>=0.15.0 in ./.venv/lib/python3.13/site-packages (from isoduration->jsonschema[format-nongpl]>=4.18.0->jupyter-events>=0.11.0->jupyter-server<3,>=2.4.0->jupyterlab->jupyter) (1.3.0)\n",
      "Requirement already satisfied: types-python-dateutil>=2.8.10 in ./.venv/lib/python3.13/site-packages (from arrow>=0.15.0->isoduration->jsonschema[format-nongpl]>=4.18.0->jupyter-events>=0.11.0->jupyter-server<3,>=2.4.0->jupyterlab->jupyter) (2.9.0.20250516)\n",
      "Requirement already satisfied: executing>=1.2.0 in ./.venv/lib/python3.13/site-packages (from stack_data->ipython>=7.23.1->ipykernel->jupyter) (2.2.0)\n",
      "Requirement already satisfied: asttokens>=2.1.0 in ./.venv/lib/python3.13/site-packages (from stack_data->ipython>=7.23.1->ipykernel->jupyter) (3.0.0)\n",
      "Requirement already satisfied: pure-eval in ./.venv/lib/python3.13/site-packages (from stack_data->ipython>=7.23.1->ipykernel->jupyter) (0.2.3)\n",
      "Requirement already satisfied: executing>=1.2.0 in ./.venv/lib/python3.13/site-packages (from stack_data->ipython>=7.23.1->ipykernel->jupyter) (2.2.0)\n",
      "Requirement already satisfied: asttokens>=2.1.0 in ./.venv/lib/python3.13/site-packages (from stack_data->ipython>=7.23.1->ipykernel->jupyter) (3.0.0)\n",
      "Requirement already satisfied: pure-eval in ./.venv/lib/python3.13/site-packages (from stack_data->ipython>=7.23.1->ipykernel->jupyter) (0.2.3)\n",
      "Requirement already satisfied: matplotlib in ./.venv/lib/python3.13/site-packages (3.10.3)\n",
      "Requirement already satisfied: contourpy>=1.0.1 in ./.venv/lib/python3.13/site-packages (from matplotlib) (1.3.2)\n",
      "Requirement already satisfied: cycler>=0.10 in ./.venv/lib/python3.13/site-packages (from matplotlib) (0.12.1)\n",
      "Requirement already satisfied: fonttools>=4.22.0 in ./.venv/lib/python3.13/site-packages (from matplotlib) (4.58.4)\n",
      "Requirement already satisfied: kiwisolver>=1.3.1 in ./.venv/lib/python3.13/site-packages (from matplotlib) (1.4.8)\n",
      "Requirement already satisfied: numpy>=1.23 in ./.venv/lib/python3.13/site-packages (from matplotlib) (2.3.0)\n",
      "Requirement already satisfied: packaging>=20.0 in ./.venv/lib/python3.13/site-packages (from matplotlib) (25.0)\n",
      "Requirement already satisfied: pillow>=8 in ./.venv/lib/python3.13/site-packages (from matplotlib) (11.2.1)\n",
      "Requirement already satisfied: pyparsing>=2.3.1 in ./.venv/lib/python3.13/site-packages (from matplotlib) (3.2.3)\n",
      "Requirement already satisfied: python-dateutil>=2.7 in ./.venv/lib/python3.13/site-packages (from matplotlib) (2.9.0.post0)\n",
      "Requirement already satisfied: six>=1.5 in ./.venv/lib/python3.13/site-packages (from python-dateutil>=2.7->matplotlib) (1.17.0)\n",
      "Requirement already satisfied: matplotlib in ./.venv/lib/python3.13/site-packages (3.10.3)\n",
      "Requirement already satisfied: contourpy>=1.0.1 in ./.venv/lib/python3.13/site-packages (from matplotlib) (1.3.2)\n",
      "Requirement already satisfied: cycler>=0.10 in ./.venv/lib/python3.13/site-packages (from matplotlib) (0.12.1)\n",
      "Requirement already satisfied: fonttools>=4.22.0 in ./.venv/lib/python3.13/site-packages (from matplotlib) (4.58.4)\n",
      "Requirement already satisfied: kiwisolver>=1.3.1 in ./.venv/lib/python3.13/site-packages (from matplotlib) (1.4.8)\n",
      "Requirement already satisfied: numpy>=1.23 in ./.venv/lib/python3.13/site-packages (from matplotlib) (2.3.0)\n",
      "Requirement already satisfied: packaging>=20.0 in ./.venv/lib/python3.13/site-packages (from matplotlib) (25.0)\n",
      "Requirement already satisfied: pillow>=8 in ./.venv/lib/python3.13/site-packages (from matplotlib) (11.2.1)\n",
      "Requirement already satisfied: pyparsing>=2.3.1 in ./.venv/lib/python3.13/site-packages (from matplotlib) (3.2.3)\n",
      "Requirement already satisfied: python-dateutil>=2.7 in ./.venv/lib/python3.13/site-packages (from matplotlib) (2.9.0.post0)\n",
      "Requirement already satisfied: six>=1.5 in ./.venv/lib/python3.13/site-packages (from python-dateutil>=2.7->matplotlib) (1.17.0)\n",
      "Requirement already satisfied: seaborn in ./.venv/lib/python3.13/site-packages (0.13.2)\n",
      "Requirement already satisfied: numpy!=1.24.0,>=1.20 in ./.venv/lib/python3.13/site-packages (from seaborn) (2.3.0)\n",
      "Requirement already satisfied: pandas>=1.2 in ./.venv/lib/python3.13/site-packages (from seaborn) (2.3.0)\n",
      "Requirement already satisfied: matplotlib!=3.6.1,>=3.4 in ./.venv/lib/python3.13/site-packages (from seaborn) (3.10.3)\n",
      "Requirement already satisfied: contourpy>=1.0.1 in ./.venv/lib/python3.13/site-packages (from matplotlib!=3.6.1,>=3.4->seaborn) (1.3.2)\n",
      "Requirement already satisfied: cycler>=0.10 in ./.venv/lib/python3.13/site-packages (from matplotlib!=3.6.1,>=3.4->seaborn) (0.12.1)\n",
      "Requirement already satisfied: fonttools>=4.22.0 in ./.venv/lib/python3.13/site-packages (from matplotlib!=3.6.1,>=3.4->seaborn) (4.58.4)\n",
      "Requirement already satisfied: kiwisolver>=1.3.1 in ./.venv/lib/python3.13/site-packages (from matplotlib!=3.6.1,>=3.4->seaborn) (1.4.8)\n",
      "Requirement already satisfied: packaging>=20.0 in ./.venv/lib/python3.13/site-packages (from matplotlib!=3.6.1,>=3.4->seaborn) (25.0)\n",
      "Requirement already satisfied: pillow>=8 in ./.venv/lib/python3.13/site-packages (from matplotlib!=3.6.1,>=3.4->seaborn) (11.2.1)\n",
      "Requirement already satisfied: pyparsing>=2.3.1 in ./.venv/lib/python3.13/site-packages (from matplotlib!=3.6.1,>=3.4->seaborn) (3.2.3)\n",
      "Requirement already satisfied: python-dateutil>=2.7 in ./.venv/lib/python3.13/site-packages (from matplotlib!=3.6.1,>=3.4->seaborn) (2.9.0.post0)\n",
      "Requirement already satisfied: pytz>=2020.1 in ./.venv/lib/python3.13/site-packages (from pandas>=1.2->seaborn) (2025.2)\n",
      "Requirement already satisfied: seaborn in ./.venv/lib/python3.13/site-packages (0.13.2)\n",
      "Requirement already satisfied: numpy!=1.24.0,>=1.20 in ./.venv/lib/python3.13/site-packages (from seaborn) (2.3.0)\n",
      "Requirement already satisfied: pandas>=1.2 in ./.venv/lib/python3.13/site-packages (from seaborn) (2.3.0)\n",
      "Requirement already satisfied: matplotlib!=3.6.1,>=3.4 in ./.venv/lib/python3.13/site-packages (from seaborn) (3.10.3)\n",
      "Requirement already satisfied: contourpy>=1.0.1 in ./.venv/lib/python3.13/site-packages (from matplotlib!=3.6.1,>=3.4->seaborn) (1.3.2)\n",
      "Requirement already satisfied: cycler>=0.10 in ./.venv/lib/python3.13/site-packages (from matplotlib!=3.6.1,>=3.4->seaborn) (0.12.1)\n",
      "Requirement already satisfied: fonttools>=4.22.0 in ./.venv/lib/python3.13/site-packages (from matplotlib!=3.6.1,>=3.4->seaborn) (4.58.4)\n",
      "Requirement already satisfied: kiwisolver>=1.3.1 in ./.venv/lib/python3.13/site-packages (from matplotlib!=3.6.1,>=3.4->seaborn) (1.4.8)\n",
      "Requirement already satisfied: packaging>=20.0 in ./.venv/lib/python3.13/site-packages (from matplotlib!=3.6.1,>=3.4->seaborn) (25.0)\n",
      "Requirement already satisfied: pillow>=8 in ./.venv/lib/python3.13/site-packages (from matplotlib!=3.6.1,>=3.4->seaborn) (11.2.1)\n",
      "Requirement already satisfied: pyparsing>=2.3.1 in ./.venv/lib/python3.13/site-packages (from matplotlib!=3.6.1,>=3.4->seaborn) (3.2.3)\n",
      "Requirement already satisfied: python-dateutil>=2.7 in ./.venv/lib/python3.13/site-packages (from matplotlib!=3.6.1,>=3.4->seaborn) (2.9.0.post0)\n",
      "Requirement already satisfied: pytz>=2020.1 in ./.venv/lib/python3.13/site-packages (from pandas>=1.2->seaborn) (2025.2)\n",
      "Requirement already satisfied: tzdata>=2022.7 in ./.venv/lib/python3.13/site-packages (from pandas>=1.2->seaborn) (2025.2)\n",
      "Requirement already satisfied: six>=1.5 in ./.venv/lib/python3.13/site-packages (from python-dateutil>=2.7->matplotlib!=3.6.1,>=3.4->seaborn) (1.17.0)\n",
      "Requirement already satisfied: tzdata>=2022.7 in ./.venv/lib/python3.13/site-packages (from pandas>=1.2->seaborn) (2025.2)\n",
      "Requirement already satisfied: six>=1.5 in ./.venv/lib/python3.13/site-packages (from python-dateutil>=2.7->matplotlib!=3.6.1,>=3.4->seaborn) (1.17.0)\n"
     ]
    }
   ],
   "source": [
    "# Install if you run this Notebook locally\n",
    "!pip install pandas\n",
    "!pip install SQLAlchemy\n",
    "!pip install ipython\n",
    "!pip install jupyter\n",
    "!pip install matplotlib\n",
    "!pip install seaborn\n"
   ]
  },
  {
   "cell_type": "markdown",
   "id": "ef772435",
   "metadata": {},
   "source": [
    "# 3. Verify Installed Packages\n",
    "\n",
    "Let's verify that the packages have been successfully installed by importing them and checking their versions."
   ]
  },
  {
   "cell_type": "code",
   "execution_count": 89,
   "id": "5c412e84",
   "metadata": {},
   "outputs": [
    {
     "name": "stdout",
     "output_type": "stream",
     "text": [
      "pandas version: 2.3.0\n",
      "SQLAlchemy version: 2.0.41\n",
      "matplotlib version: 3.10.3\n",
      "IPython version: 9.3.0\n",
      "sqlite3 version: 2.6.0\n",
      "\n",
      "All required packages have been successfully installed and imported!\n"
     ]
    },
    {
     "name": "stderr",
     "output_type": "stream",
     "text": [
      "/var/folders/cp/_pjh4tv50jv96b4b2_xp6l2c0000gp/T/ipykernel_79735/782973014.py:17: DeprecationWarning: version is deprecated and will be removed in Python 3.14\n",
      "  print(f\"sqlite3 version: {sqlite3.version}\")\n"
     ]
    }
   ],
   "source": [
    "try:\n",
    "    import pandas as pd\n",
    "    import sqlalchemy\n",
    "    import matplotlib\n",
    "    import matplotlib.pyplot as plt\n",
    "    import IPython\n",
    "    \n",
    "    # Print version information\n",
    "    print(f\"pandas version: {pd.__version__}\")\n",
    "    print(f\"SQLAlchemy version: {sqlalchemy.__version__}\")\n",
    "    print(f\"matplotlib version: {matplotlib.__version__}\")\n",
    "    print(f\"IPython version: {IPython.__version__}\")\n",
    "    \n",
    "    # Check for sqlite3\n",
    "    try:\n",
    "        import sqlite3\n",
    "        print(f\"sqlite3 version: {sqlite3.version}\")\n",
    "    except ImportError:\n",
    "        print(\"sqlite3 is not installed as a separate package, but is included with Python\")\n",
    "        print(f\"sqlite3 version: {sqlite3.sqlite_version}\")\n",
    "    \n",
    "    print(\"\\nAll required packages have been successfully installed and imported!\")\n",
    "except ImportError as e:\n",
    "    print(f\"Error importing package: {e}\")"
   ]
  },
  {
   "cell_type": "markdown",
   "id": "17720a94",
   "metadata": {},
   "source": [
    "# 4. SQL Joins Demonstration\n",
    "\n",
    "Now that we have verified our package installation, let's create some sample data and demonstrate different types of SQL joins. We'll create two sample DataFrames representing two database tables and then show how different join types work.\n",
    "\n",
    "## Employee DataFrame\n",
    "- employee_id: Unique identifier for each employee\n",
    "- name: Name of the employee\n",
    "- department_id: Identifier for the department the employee belongs to\n",
    "\n",
    "## Department DataFrame\n",
    "- department_id: Unique identifier for each department\n",
    "- department_name: Name of the department\n",
    "\n"
   ]
  },
  {
   "cell_type": "code",
   "execution_count": 90,
   "id": "6ddcc5ae",
   "metadata": {},
   "outputs": [
    {
     "name": "stdout",
     "output_type": "stream",
     "text": [
      "Employees Table:\n"
     ]
    },
    {
     "data": {
      "application/vnd.microsoft.datawrangler.viewer.v0+json": {
       "columns": [
        {
         "name": "index",
         "rawType": "int64",
         "type": "integer"
        },
        {
         "name": "employee_id",
         "rawType": "int64",
         "type": "integer"
        },
        {
         "name": "name",
         "rawType": "object",
         "type": "string"
        },
        {
         "name": "department_id",
         "rawType": "float64",
         "type": "float"
        }
       ],
       "ref": "e9cd5467-a89d-4171-883a-dce82cfdb64f",
       "rows": [
        [
         "0",
         "1",
         "Alice",
         "101.0"
        ],
        [
         "1",
         "2",
         "Bob",
         "102.0"
        ],
        [
         "2",
         "3",
         "Charlie",
         "101.0"
        ],
        [
         "3",
         "4",
         "David",
         null
        ],
        [
         "4",
         "5",
         "Eva",
         "103.0"
        ]
       ],
       "shape": {
        "columns": 3,
        "rows": 5
       }
      },
      "text/html": [
       "<div>\n",
       "<style scoped>\n",
       "    .dataframe tbody tr th:only-of-type {\n",
       "        vertical-align: middle;\n",
       "    }\n",
       "\n",
       "    .dataframe tbody tr th {\n",
       "        vertical-align: top;\n",
       "    }\n",
       "\n",
       "    .dataframe thead th {\n",
       "        text-align: right;\n",
       "    }\n",
       "</style>\n",
       "<table border=\"1\" class=\"dataframe\">\n",
       "  <thead>\n",
       "    <tr style=\"text-align: right;\">\n",
       "      <th></th>\n",
       "      <th>employee_id</th>\n",
       "      <th>name</th>\n",
       "      <th>department_id</th>\n",
       "    </tr>\n",
       "  </thead>\n",
       "  <tbody>\n",
       "    <tr>\n",
       "      <th>0</th>\n",
       "      <td>1</td>\n",
       "      <td>Alice</td>\n",
       "      <td>101.0</td>\n",
       "    </tr>\n",
       "    <tr>\n",
       "      <th>1</th>\n",
       "      <td>2</td>\n",
       "      <td>Bob</td>\n",
       "      <td>102.0</td>\n",
       "    </tr>\n",
       "    <tr>\n",
       "      <th>2</th>\n",
       "      <td>3</td>\n",
       "      <td>Charlie</td>\n",
       "      <td>101.0</td>\n",
       "    </tr>\n",
       "    <tr>\n",
       "      <th>3</th>\n",
       "      <td>4</td>\n",
       "      <td>David</td>\n",
       "      <td>NaN</td>\n",
       "    </tr>\n",
       "    <tr>\n",
       "      <th>4</th>\n",
       "      <td>5</td>\n",
       "      <td>Eva</td>\n",
       "      <td>103.0</td>\n",
       "    </tr>\n",
       "  </tbody>\n",
       "</table>\n",
       "</div>"
      ],
      "text/plain": [
       "   employee_id     name  department_id\n",
       "0            1    Alice          101.0\n",
       "1            2      Bob          102.0\n",
       "2            3  Charlie          101.0\n",
       "3            4    David            NaN\n",
       "4            5      Eva          103.0"
      ]
     },
     "metadata": {},
     "output_type": "display_data"
    },
    {
     "name": "stdout",
     "output_type": "stream",
     "text": [
      "\n",
      "Departments Table:\n"
     ]
    },
    {
     "data": {
      "application/vnd.microsoft.datawrangler.viewer.v0+json": {
       "columns": [
        {
         "name": "index",
         "rawType": "int64",
         "type": "integer"
        },
        {
         "name": "department_id",
         "rawType": "int64",
         "type": "integer"
        },
        {
         "name": "department_name",
         "rawType": "object",
         "type": "string"
        }
       ],
       "ref": "54e2618b-4eef-4582-b22f-43f651d9e203",
       "rows": [
        [
         "0",
         "101",
         "HR"
        ],
        [
         "1",
         "102",
         "Engineering"
        ],
        [
         "2",
         "104",
         "Marketing"
        ],
        [
         "3",
         "105",
         "Finance"
        ]
       ],
       "shape": {
        "columns": 2,
        "rows": 4
       }
      },
      "text/html": [
       "<div>\n",
       "<style scoped>\n",
       "    .dataframe tbody tr th:only-of-type {\n",
       "        vertical-align: middle;\n",
       "    }\n",
       "\n",
       "    .dataframe tbody tr th {\n",
       "        vertical-align: top;\n",
       "    }\n",
       "\n",
       "    .dataframe thead th {\n",
       "        text-align: right;\n",
       "    }\n",
       "</style>\n",
       "<table border=\"1\" class=\"dataframe\">\n",
       "  <thead>\n",
       "    <tr style=\"text-align: right;\">\n",
       "      <th></th>\n",
       "      <th>department_id</th>\n",
       "      <th>department_name</th>\n",
       "    </tr>\n",
       "  </thead>\n",
       "  <tbody>\n",
       "    <tr>\n",
       "      <th>0</th>\n",
       "      <td>101</td>\n",
       "      <td>HR</td>\n",
       "    </tr>\n",
       "    <tr>\n",
       "      <th>1</th>\n",
       "      <td>102</td>\n",
       "      <td>Engineering</td>\n",
       "    </tr>\n",
       "    <tr>\n",
       "      <th>2</th>\n",
       "      <td>104</td>\n",
       "      <td>Marketing</td>\n",
       "    </tr>\n",
       "    <tr>\n",
       "      <th>3</th>\n",
       "      <td>105</td>\n",
       "      <td>Finance</td>\n",
       "    </tr>\n",
       "  </tbody>\n",
       "</table>\n",
       "</div>"
      ],
      "text/plain": [
       "   department_id department_name\n",
       "0            101              HR\n",
       "1            102     Engineering\n",
       "2            104       Marketing\n",
       "3            105         Finance"
      ]
     },
     "metadata": {},
     "output_type": "display_data"
    }
   ],
   "source": [
    "# Import necessary libraries\n",
    "import pandas as pd\n",
    "import sqlite3\n",
    "import matplotlib.pyplot as plt\n",
    "from sqlalchemy import create_engine, text\n",
    "import numpy as np\n",
    "\n",
    "# Set the style for plots\n",
    "plt.style.use('ggplot')\n",
    "plt.rcParams['figure.figsize'] = (12, 5)\n",
    "\n",
    "# Create sample data for 'employees' table\n",
    "employees_data = {\n",
    "    'employee_id': [1, 2, 3, 4, 5],\n",
    "    'name': ['Alice', 'Bob', 'Charlie', 'David', 'Eva'],\n",
    "    'department_id': [101, 102, 101, None, 103]\n",
    "}\n",
    "\n",
    "# Create sample data for 'departments' table\n",
    "departments_data = {\n",
    "    'department_id': [101, 102, 104, 105],\n",
    "    'department_name': ['HR', 'Engineering', 'Marketing', 'Finance']\n",
    "}\n",
    "\n",
    "# Create DataFrames\n",
    "employees_df = pd.DataFrame(employees_data)\n",
    "departments_df = pd.DataFrame(departments_data)\n",
    "\n",
    "# Display the sample data\n",
    "print(\"Employees Table:\")\n",
    "display(employees_df)\n",
    "\n",
    "print(\"\\nDepartments Table:\")\n",
    "display(departments_df)"
   ]
  },
  {
   "cell_type": "code",
   "execution_count": 91,
   "id": "446c20a4",
   "metadata": {},
   "outputs": [
    {
     "name": "stdout",
     "output_type": "stream",
     "text": [
      "Database tables created successfully\n",
      "\n",
      "Employees table in SQLite:\n",
      "(1, 'Alice', 101.0)\n",
      "(2, 'Bob', 102.0)\n",
      "(3, 'Charlie', 101.0)\n",
      "(4, 'David', None)\n",
      "(5, 'Eva', 103.0)\n",
      "\n",
      "Departments table in SQLite:\n",
      "(101, 'HR')\n",
      "(102, 'Engineering')\n",
      "(104, 'Marketing')\n",
      "(105, 'Finance')\n"
     ]
    }
   ],
   "source": [
    "# Create an in-memory SQLite database using SQLAlchemy\n",
    "engine = create_engine('sqlite:///:memory:')\n",
    "\n",
    "# Store DataFrames in the database\n",
    "# Now we have 2 tables: 'employees' and 'departments'\n",
    "employees_df.to_sql('employees', engine, index=False)\n",
    "departments_df.to_sql('departments', engine, index=False)\n",
    "\n",
    "print(\"Database tables created successfully\")\n",
    "\n",
    "# Verify the tables are created correctly\n",
    "with engine.connect() as conn:\n",
    "    # Show all records from both tables\n",
    "    employees_result = conn.execute(text('SELECT * FROM employees'))\n",
    "    departments_result = conn.execute(text('SELECT * FROM departments'))\n",
    "    \n",
    "    print(\"\\nEmployees table in SQLite:\")\n",
    "    for row in employees_result:\n",
    "        print(row)\n",
    "        \n",
    "    print(\"\\nDepartments table in SQLite:\")\n",
    "    for row in departments_result:\n",
    "        print(row)"
   ]
  },
  {
   "cell_type": "markdown",
   "id": "6b4a9616",
   "metadata": {},
   "source": [
    "## 4.1 INNER JOIN\n",
    "\n",
    "An INNER JOIN returns only the matching rows from both tables where the join condition is met. Rows with NULL values or without matches are excluded."
   ]
  },
  {
   "cell_type": "code",
   "execution_count": 92,
   "id": "b51ff0d5",
   "metadata": {},
   "outputs": [
    {
     "name": "stdout",
     "output_type": "stream",
     "text": [
      "INNER JOIN Result:\n"
     ]
    },
    {
     "data": {
      "application/vnd.microsoft.datawrangler.viewer.v0+json": {
       "columns": [
        {
         "name": "index",
         "rawType": "int64",
         "type": "integer"
        },
        {
         "name": "employee_id",
         "rawType": "int64",
         "type": "integer"
        },
        {
         "name": "name",
         "rawType": "object",
         "type": "string"
        },
        {
         "name": "department_id",
         "rawType": "float64",
         "type": "float"
        },
        {
         "name": "department_name",
         "rawType": "object",
         "type": "string"
        }
       ],
       "ref": "fd36bb95-e829-4f11-9f0e-c5887d2d91b6",
       "rows": [
        [
         "0",
         "1",
         "Alice",
         "101.0",
         "HR"
        ],
        [
         "1",
         "2",
         "Bob",
         "102.0",
         "Engineering"
        ],
        [
         "2",
         "3",
         "Charlie",
         "101.0",
         "HR"
        ]
       ],
       "shape": {
        "columns": 4,
        "rows": 3
       }
      },
      "text/html": [
       "<div>\n",
       "<style scoped>\n",
       "    .dataframe tbody tr th:only-of-type {\n",
       "        vertical-align: middle;\n",
       "    }\n",
       "\n",
       "    .dataframe tbody tr th {\n",
       "        vertical-align: top;\n",
       "    }\n",
       "\n",
       "    .dataframe thead th {\n",
       "        text-align: right;\n",
       "    }\n",
       "</style>\n",
       "<table border=\"1\" class=\"dataframe\">\n",
       "  <thead>\n",
       "    <tr style=\"text-align: right;\">\n",
       "      <th></th>\n",
       "      <th>employee_id</th>\n",
       "      <th>name</th>\n",
       "      <th>department_id</th>\n",
       "      <th>department_name</th>\n",
       "    </tr>\n",
       "  </thead>\n",
       "  <tbody>\n",
       "    <tr>\n",
       "      <th>0</th>\n",
       "      <td>1</td>\n",
       "      <td>Alice</td>\n",
       "      <td>101.0</td>\n",
       "      <td>HR</td>\n",
       "    </tr>\n",
       "    <tr>\n",
       "      <th>1</th>\n",
       "      <td>2</td>\n",
       "      <td>Bob</td>\n",
       "      <td>102.0</td>\n",
       "      <td>Engineering</td>\n",
       "    </tr>\n",
       "    <tr>\n",
       "      <th>2</th>\n",
       "      <td>3</td>\n",
       "      <td>Charlie</td>\n",
       "      <td>101.0</td>\n",
       "      <td>HR</td>\n",
       "    </tr>\n",
       "  </tbody>\n",
       "</table>\n",
       "</div>"
      ],
      "text/plain": [
       "   employee_id     name  department_id department_name\n",
       "0            1    Alice          101.0              HR\n",
       "1            2      Bob          102.0     Engineering\n",
       "2            3  Charlie          101.0              HR"
      ]
     },
     "metadata": {},
     "output_type": "display_data"
    },
    {
     "data": {
      "image/png": "[encoded data removed]",
      "text/plain": [
       "<Figure size 1200x600 with 1 Axes>"
      ]
     },
     "metadata": {},
     "output_type": "display_data"
    },
    {
     "name": "stdout",
     "output_type": "stream",
     "text": [
      "\n",
      "INNER JOIN (SQL): Returns only matching rows\n",
      "-------------------------------------------\n",
      "Employees included: Alice (101), Bob (102), Charlie (101)\n",
      "Employees excluded: David (NULL), Eva (103 - not in departments)\n",
      "Departments included: HR (101), Engineering (102)\n",
      "Departments excluded: Marketing (104), Finance (105)\n",
      "Total rows in result: 3\n"
     ]
    }
   ],
   "source": [
    "# Perform INNER JOIN using SQLAlchemy\n",
    "query = \"\"\"\n",
    "    SELECT e.employee_id, e.name, e.department_id, d.department_name\n",
    "    FROM employees e\n",
    "    INNER JOIN departments d ON e.department_id = d.department_id\n",
    "\"\"\"\n",
    "\n",
    "with engine.connect() as conn:\n",
    "    inner_join_result = pd.read_sql_query(query, conn)\n",
    "\n",
    "print(\"INNER JOIN Result:\")\n",
    "display(inner_join_result)\n",
    "\n",
    "# Visualize the INNER JOIN with a Venn diagram-like plot\n",
    "plt.figure(figsize=(12, 6))\n",
    "\n",
    "# Create a scatter plot with two circles representing the tables\n",
    "theta = np.linspace(0, 2 * np.pi, 100)\n",
    "\n",
    "# Employee circle (blue)\n",
    "r1 = 1\n",
    "x1 = r1 * np.cos(theta) - 0.5\n",
    "y1 = r1 * np.sin(theta)\n",
    "plt.plot(x1, y1, 'b-', alpha=0.3)\n",
    "plt.fill(x1, y1, 'lightblue', alpha=0.3, label='Employees')\n",
    "\n",
    "# Department circle (green)\n",
    "r2 = 1\n",
    "x2 = r2 * np.cos(theta) + 0.5\n",
    "y2 = r2 * np.sin(theta)\n",
    "plt.plot(x2, y2, 'g-', alpha=0.3)\n",
    "plt.fill(x2, y2, 'lightgreen', alpha=0.3, label='Departments')\n",
    "\n",
    "# Intersection (darker blue)\n",
    "plt.fill_between([-0.5, 0.5], -np.sqrt(0.75), np.sqrt(0.75), color='darkblue', alpha=0.5, label='INNER JOIN')\n",
    "\n",
    "plt.text(-1.2, 0, \"Employees without\\nmatching departments\", fontsize=10)\n",
    "plt.text(1.2, 0, \"Departments without\\nmatching employees\", fontsize=10)\n",
    "plt.text(0, 0, \"Matched\\nrecords\", fontsize=10, ha='center', color='white')\n",
    "\n",
    "plt.axis('equal')\n",
    "plt.axis('off')\n",
    "plt.title('INNER JOIN Visualization')\n",
    "plt.legend(loc='upper center', bbox_to_anchor=(0.5, -0.05), ncol=3)\n",
    "plt.tight_layout()\n",
    "plt.show()\n",
    "\n",
    "# Also present the result in text form for clarity\n",
    "print(\"\\nINNER JOIN (SQL): Returns only matching rows\")\n",
    "print(\"-------------------------------------------\")\n",
    "print(\"Employees included: Alice (101), Bob (102), Charlie (101)\")\n",
    "print(\"Employees excluded: David (NULL), Eva (103 - not in departments)\")\n",
    "print(\"Departments included: HR (101), Engineering (102)\")\n",
    "print(\"Departments excluded: Marketing (104), Finance (105)\")\n",
    "print(\"Total rows in result: 3\")"
   ]
  },
  {
   "cell_type": "markdown",
   "id": "b1b1a195",
   "metadata": {},
   "source": [
    "## 4.2 LEFT JOIN (LEFT OUTER JOIN)\n",
    "\n",
    "A LEFT JOIN returns all rows from the left table and the matched rows from the right table. If there's no match in the right table, NULL values are returned for the right table's columns."
   ]
  },
  {
   "cell_type": "code",
   "execution_count": 93,
   "id": "cde2ff37",
   "metadata": {},
   "outputs": [
    {
     "name": "stdout",
     "output_type": "stream",
     "text": [
      "LEFT JOIN Result:\n"
     ]
    },
    {
     "data": {
      "application/vnd.microsoft.datawrangler.viewer.v0+json": {
       "columns": [
        {
         "name": "index",
         "rawType": "int64",
         "type": "integer"
        },
        {
         "name": "employee_id",
         "rawType": "int64",
         "type": "integer"
        },
        {
         "name": "name",
         "rawType": "object",
         "type": "string"
        },
        {
         "name": "department_id",
         "rawType": "float64",
         "type": "float"
        },
        {
         "name": "department_name",
         "rawType": "object",
         "type": "unknown"
        }
       ],
       "ref": "21e45a52-7e02-4a2c-b95a-a629332d3a7b",
       "rows": [
        [
         "0",
         "1",
         "Alice",
         "101.0",
         "HR"
        ],
        [
         "1",
         "2",
         "Bob",
         "102.0",
         "Engineering"
        ],
        [
         "2",
         "3",
         "Charlie",
         "101.0",
         "HR"
        ],
        [
         "3",
         "4",
         "David",
         null,
         null
        ],
        [
         "4",
         "5",
         "Eva",
         "103.0",
         null
        ]
       ],
       "shape": {
        "columns": 4,
        "rows": 5
       }
      },
      "text/html": [
       "<div>\n",
       "<style scoped>\n",
       "    .dataframe tbody tr th:only-of-type {\n",
       "        vertical-align: middle;\n",
       "    }\n",
       "\n",
       "    .dataframe tbody tr th {\n",
       "        vertical-align: top;\n",
       "    }\n",
       "\n",
       "    .dataframe thead th {\n",
       "        text-align: right;\n",
       "    }\n",
       "</style>\n",
       "<table border=\"1\" class=\"dataframe\">\n",
       "  <thead>\n",
       "    <tr style=\"text-align: right;\">\n",
       "      <th></th>\n",
       "      <th>employee_id</th>\n",
       "      <th>name</th>\n",
       "      <th>department_id</th>\n",
       "      <th>department_name</th>\n",
       "    </tr>\n",
       "  </thead>\n",
       "  <tbody>\n",
       "    <tr>\n",
       "      <th>0</th>\n",
       "      <td>1</td>\n",
       "      <td>Alice</td>\n",
       "      <td>101.0</td>\n",
       "      <td>HR</td>\n",
       "    </tr>\n",
       "    <tr>\n",
       "      <th>1</th>\n",
       "      <td>2</td>\n",
       "      <td>Bob</td>\n",
       "      <td>102.0</td>\n",
       "      <td>Engineering</td>\n",
       "    </tr>\n",
       "    <tr>\n",
       "      <th>2</th>\n",
       "      <td>3</td>\n",
       "      <td>Charlie</td>\n",
       "      <td>101.0</td>\n",
       "      <td>HR</td>\n",
       "    </tr>\n",
       "    <tr>\n",
       "      <th>3</th>\n",
       "      <td>4</td>\n",
       "      <td>David</td>\n",
       "      <td>NaN</td>\n",
       "      <td>None</td>\n",
       "    </tr>\n",
       "    <tr>\n",
       "      <th>4</th>\n",
       "      <td>5</td>\n",
       "      <td>Eva</td>\n",
       "      <td>103.0</td>\n",
       "      <td>None</td>\n",
       "    </tr>\n",
       "  </tbody>\n",
       "</table>\n",
       "</div>"
      ],
      "text/plain": [
       "   employee_id     name  department_id department_name\n",
       "0            1    Alice          101.0              HR\n",
       "1            2      Bob          102.0     Engineering\n",
       "2            3  Charlie          101.0              HR\n",
       "3            4    David            NaN            None\n",
       "4            5      Eva          103.0            None"
      ]
     },
     "metadata": {},
     "output_type": "display_data"
    },
    {
     "data": {
      "image/png": "[encoded data removed]",
      "text/plain": [
       "<Figure size 1200x600 with 1 Axes>"
      ]
     },
     "metadata": {},
     "output_type": "display_data"
    },
    {
     "name": "stdout",
     "output_type": "stream",
     "text": [
      "\n",
      "LEFT JOIN (SQL): Returns all rows from the left table and matching rows from the right table\n",
      "---------------------------------------------------------------------------------------\n",
      "Employees included: ALL (5 rows)\n",
      "  - Alice (101) with HR department\n",
      "  - Bob (102) with Engineering department\n",
      "  - Charlie (101) with HR department\n",
      "  - David (NULL) with NULL department_name\n",
      "  - Eva (103) with NULL department_name (no matching department)\n",
      "Total rows in result: 5\n"
     ]
    }
   ],
   "source": [
    "# Perform LEFT JOIN using SQLAlchemy\n",
    "query = \"\"\"\n",
    "    SELECT e.employee_id, e.name, e.department_id, d.department_name\n",
    "    FROM employees e\n",
    "    LEFT JOIN departments d ON e.department_id = d.department_id\n",
    "\"\"\"\n",
    "\n",
    "with engine.connect() as conn:\n",
    "    left_join_result = pd.read_sql_query(query, conn)\n",
    "\n",
    "print(\"LEFT JOIN Result:\")\n",
    "display(left_join_result)\n",
    "\n",
    "# Visualize the LEFT JOIN with a Venn diagram-like plot\n",
    "plt.figure(figsize=(12, 6))\n",
    "\n",
    "# Create a scatter plot with two circles representing the tables\n",
    "theta = np.linspace(0, 2 * np.pi, 100)\n",
    "\n",
    "# Employee circle (blue) - completely colored since it's a LEFT JOIN\n",
    "r1 = 1\n",
    "x1 = r1 * np.cos(theta) - 0.5\n",
    "y1 = r1 * np.sin(theta)\n",
    "plt.plot(x1, y1, 'b-')\n",
    "plt.fill(x1, y1, 'lightblue', alpha=0.7, label='Employees (LEFT table)')\n",
    "\n",
    "# Department circle (green) - only intersection colored\n",
    "r2 = 1\n",
    "x2 = r2 * np.cos(theta) + 0.5\n",
    "y2 = r2 * np.sin(theta)\n",
    "plt.plot(x2, y2, 'g-', alpha=0.3)\n",
    "\n",
    "# Just the outline for departments\n",
    "plt.fill(x2, y2, 'lightgreen', alpha=0.1, label='Departments')\n",
    "\n",
    "# Intersection darker\n",
    "plt.fill_between([-0.5, 0.5], -np.sqrt(0.75), np.sqrt(0.75), color='darkblue', alpha=0.5, label='Matching records')\n",
    "\n",
    "plt.text(-1.2, 0, \"Employees without\\nmatching departments\\n(NULL for dept columns)\", fontsize=10)\n",
    "plt.text(1.2, 0, \"Departments without\\nmatching employees\\n(not in result)\", fontsize=10)\n",
    "plt.text(0, 0, \"Matched\\nrecords\", fontsize=10, ha='center', color='white')\n",
    "\n",
    "plt.axis('equal')\n",
    "plt.axis('off')\n",
    "plt.title('LEFT JOIN Visualization')\n",
    "plt.legend(loc='upper center', bbox_to_anchor=(0.5, -0.05), ncol=3)\n",
    "plt.tight_layout()\n",
    "plt.show()\n",
    "\n",
    "# Also present the result in text form for clarity\n",
    "print(\"\\nLEFT JOIN (SQL): Returns all rows from the left table and matching rows from the right table\")\n",
    "print(\"---------------------------------------------------------------------------------------\")\n",
    "print(\"Employees included: ALL (5 rows)\")\n",
    "print(\"  - Alice (101) with HR department\")\n",
    "print(\"  - Bob (102) with Engineering department\")\n",
    "print(\"  - Charlie (101) with HR department\")\n",
    "print(\"  - David (NULL) with NULL department_name\")\n",
    "print(\"  - Eva (103) with NULL department_name (no matching department)\")\n",
    "print(\"Total rows in result: 5\")"
   ]
  },
  {
   "cell_type": "markdown",
   "id": "40845963",
   "metadata": {},
   "source": [
    "## 4.3 RIGHT JOIN (RIGHT OUTER JOIN)\n",
    "\n",
    "A RIGHT JOIN returns all rows from the right table and the matched rows from the left table. If there's no match in the left table, NULL values are returned for the left table's columns.\n",
    "\n",
    "Note: SQLite doesn't support RIGHT JOIN directly, so we'll simulate it by swapping the tables in a LEFT JOIN."
   ]
  },
  {
   "cell_type": "code",
   "execution_count": 94,
   "id": "26dda81b",
   "metadata": {},
   "outputs": [
    {
     "name": "stdout",
     "output_type": "stream",
     "text": [
      "RIGHT JOIN Result (simulated in SQLite):\n"
     ]
    },
    {
     "data": {
      "application/vnd.microsoft.datawrangler.viewer.v0+json": {
       "columns": [
        {
         "name": "index",
         "rawType": "int64",
         "type": "integer"
        },
        {
         "name": "employee_id",
         "rawType": "float64",
         "type": "float"
        },
        {
         "name": "name",
         "rawType": "object",
         "type": "unknown"
        },
        {
         "name": "department_id",
         "rawType": "int64",
         "type": "integer"
        },
        {
         "name": "department_name",
         "rawType": "object",
         "type": "string"
        }
       ],
       "ref": "bd68b570-5639-4c61-b941-5e31990b913f",
       "rows": [
        [
         "0",
         "1.0",
         "Alice",
         "101",
         "HR"
        ],
        [
         "1",
         "3.0",
         "Charlie",
         "101",
         "HR"
        ],
        [
         "2",
         "2.0",
         "Bob",
         "102",
         "Engineering"
        ],
        [
         "3",
         null,
         null,
         "104",
         "Marketing"
        ],
        [
         "4",
         null,
         null,
         "105",
         "Finance"
        ]
       ],
       "shape": {
        "columns": 4,
        "rows": 5
       }
      },
      "text/html": [
       "<div>\n",
       "<style scoped>\n",
       "    .dataframe tbody tr th:only-of-type {\n",
       "        vertical-align: middle;\n",
       "    }\n",
       "\n",
       "    .dataframe tbody tr th {\n",
       "        vertical-align: top;\n",
       "    }\n",
       "\n",
       "    .dataframe thead th {\n",
       "        text-align: right;\n",
       "    }\n",
       "</style>\n",
       "<table border=\"1\" class=\"dataframe\">\n",
       "  <thead>\n",
       "    <tr style=\"text-align: right;\">\n",
       "      <th></th>\n",
       "      <th>employee_id</th>\n",
       "      <th>name</th>\n",
       "      <th>department_id</th>\n",
       "      <th>department_name</th>\n",
       "    </tr>\n",
       "  </thead>\n",
       "  <tbody>\n",
       "    <tr>\n",
       "      <th>0</th>\n",
       "      <td>1.0</td>\n",
       "      <td>Alice</td>\n",
       "      <td>101</td>\n",
       "      <td>HR</td>\n",
       "    </tr>\n",
       "    <tr>\n",
       "      <th>1</th>\n",
       "      <td>3.0</td>\n",
       "      <td>Charlie</td>\n",
       "      <td>101</td>\n",
       "      <td>HR</td>\n",
       "    </tr>\n",
       "    <tr>\n",
       "      <th>2</th>\n",
       "      <td>2.0</td>\n",
       "      <td>Bob</td>\n",
       "      <td>102</td>\n",
       "      <td>Engineering</td>\n",
       "    </tr>\n",
       "    <tr>\n",
       "      <th>3</th>\n",
       "      <td>NaN</td>\n",
       "      <td>None</td>\n",
       "      <td>104</td>\n",
       "      <td>Marketing</td>\n",
       "    </tr>\n",
       "    <tr>\n",
       "      <th>4</th>\n",
       "      <td>NaN</td>\n",
       "      <td>None</td>\n",
       "      <td>105</td>\n",
       "      <td>Finance</td>\n",
       "    </tr>\n",
       "  </tbody>\n",
       "</table>\n",
       "</div>"
      ],
      "text/plain": [
       "   employee_id     name  department_id department_name\n",
       "0          1.0    Alice            101              HR\n",
       "1          3.0  Charlie            101              HR\n",
       "2          2.0      Bob            102     Engineering\n",
       "3          NaN     None            104       Marketing\n",
       "4          NaN     None            105         Finance"
      ]
     },
     "metadata": {},
     "output_type": "display_data"
    },
    {
     "data": {
      "image/png": "[encoded data removed]",
      "text/plain": [
       "<Figure size 1200x600 with 1 Axes>"
      ]
     },
     "metadata": {},
     "output_type": "display_data"
    },
    {
     "name": "stdout",
     "output_type": "stream",
     "text": [
      "\n",
      "RIGHT JOIN (SQL): Returns all rows from the right table and matching rows from the left table\n",
      "----------------------------------------------------------------------------------------\n",
      "Departments included: ALL (4 rows)\n",
      "  - HR (101) with Alice and Charlie\n",
      "  - Engineering (102) with Bob\n",
      "  - Marketing (104) with NULL employee data (no matching employee)\n",
      "  - Finance (105) with NULL employee data (no matching employee)\n",
      "Note: The HR department appears twice because it matches two employees\n",
      "Total rows in result: 5\n"
     ]
    }
   ],
   "source": [
    "# Perform RIGHT JOIN (simulated with LEFT JOIN by swapping tables) using SQLAlchemy\n",
    "query = \"\"\"\n",
    "    SELECT e.employee_id, e.name, d.department_id, d.department_name\n",
    "    FROM departments d\n",
    "    LEFT JOIN employees e ON d.department_id = e.department_id\n",
    "\"\"\"\n",
    "\n",
    "with engine.connect() as conn:\n",
    "    right_join_result = pd.read_sql_query(query, conn)\n",
    "\n",
    "print(\"RIGHT JOIN Result (simulated in SQLite):\")\n",
    "display(right_join_result)\n",
    "\n",
    "# Visualize the RIGHT JOIN with a Venn diagram-like plot\n",
    "plt.figure(figsize=(12, 6))\n",
    "\n",
    "# Create a scatter plot with two circles representing the tables\n",
    "theta = np.linspace(0, 2 * np.pi, 100)\n",
    "\n",
    "# Employee circle (blue) - only intersection colored\n",
    "r1 = 1\n",
    "x1 = r1 * np.cos(theta) - 0.5\n",
    "y1 = r1 * np.sin(theta)\n",
    "plt.plot(x1, y1, 'b-', alpha=0.3)\n",
    "plt.fill(x1, y1, 'lightblue', alpha=0.1, label='Employees')\n",
    "\n",
    "# Department circle (green) - completely colored since it's a RIGHT JOIN\n",
    "r2 = 1\n",
    "x2 = r2 * np.cos(theta) + 0.5\n",
    "y2 = r2 * np.sin(theta)\n",
    "plt.plot(x2, y2, 'g-')\n",
    "plt.fill(x2, y2, 'lightgreen', alpha=0.7, label='Departments (RIGHT table)')\n",
    "\n",
    "# Intersection darker\n",
    "plt.fill_between([-0.5, 0.5], -np.sqrt(0.75), np.sqrt(0.75), color='darkblue', alpha=0.5, label='Matching records')\n",
    "\n",
    "plt.text(-1.2, 0, \"Employees without\\nmatching departments\\n(not in result)\", fontsize=10)\n",
    "plt.text(1.2, 0, \"Departments without\\nmatching employees\\n(NULL for emp columns)\", fontsize=10)\n",
    "plt.text(0, 0, \"Matched\\nrecords\", fontsize=10, ha='center', color='white')\n",
    "\n",
    "plt.axis('equal')\n",
    "plt.axis('off')\n",
    "plt.title('RIGHT JOIN Visualization')\n",
    "plt.legend(loc='upper center', bbox_to_anchor=(0.5, -0.05), ncol=3)\n",
    "plt.tight_layout()\n",
    "plt.show()\n",
    "\n",
    "# Also present the result in text form for clarity\n",
    "print(\"\\nRIGHT JOIN (SQL): Returns all rows from the right table and matching rows from the left table\")\n",
    "print(\"----------------------------------------------------------------------------------------\")\n",
    "print(\"Departments included: ALL (4 rows)\")\n",
    "print(\"  - HR (101) with Alice and Charlie\")\n",
    "print(\"  - Engineering (102) with Bob\") \n",
    "print(\"  - Marketing (104) with NULL employee data (no matching employee)\")\n",
    "print(\"  - Finance (105) with NULL employee data (no matching employee)\")\n",
    "print(\"Note: The HR department appears twice because it matches two employees\")\n",
    "print(\"Total rows in result: 5\")"
   ]
  },
  {
   "cell_type": "markdown",
   "id": "d745098b",
   "metadata": {},
   "source": [
    "## 4.4 FULL OUTER JOIN\n",
    "\n",
    "A FULL OUTER JOIN returns all rows from both tables. Where there are matches, the data is combined. Where there's no match, NULL values are used for the columns of the table without a matching row.\n",
    "\n",
    "Note: SQLite doesn't support FULL OUTER JOIN directly, so we'll simulate it by combining a LEFT JOIN and a RIGHT JOIN with UNION."
   ]
  },
  {
   "cell_type": "code",
   "execution_count": 95,
   "id": "d50428f6",
   "metadata": {},
   "outputs": [
    {
     "name": "stdout",
     "output_type": "stream",
     "text": [
      "FULL OUTER JOIN Result (simulated in SQLite):\n"
     ]
    },
    {
     "data": {
      "application/vnd.microsoft.datawrangler.viewer.v0+json": {
       "columns": [
        {
         "name": "index",
         "rawType": "int64",
         "type": "integer"
        },
        {
         "name": "employee_id",
         "rawType": "float64",
         "type": "float"
        },
        {
         "name": "name",
         "rawType": "object",
         "type": "unknown"
        },
        {
         "name": "department_id",
         "rawType": "float64",
         "type": "float"
        },
        {
         "name": "department_name",
         "rawType": "object",
         "type": "unknown"
        }
       ],
       "ref": "f97dd948-bd36-4bb3-b702-d674f7737e70",
       "rows": [
        [
         "0",
         null,
         null,
         "104.0",
         "Marketing"
        ],
        [
         "1",
         null,
         null,
         "105.0",
         "Finance"
        ],
        [
         "2",
         "1.0",
         "Alice",
         "101.0",
         "HR"
        ],
        [
         "3",
         "2.0",
         "Bob",
         "102.0",
         "Engineering"
        ],
        [
         "4",
         "3.0",
         "Charlie",
         "101.0",
         "HR"
        ],
        [
         "5",
         "4.0",
         "David",
         null,
         null
        ],
        [
         "6",
         "5.0",
         "Eva",
         "103.0",
         null
        ]
       ],
       "shape": {
        "columns": 4,
        "rows": 7
       }
      },
      "text/html": [
       "<div>\n",
       "<style scoped>\n",
       "    .dataframe tbody tr th:only-of-type {\n",
       "        vertical-align: middle;\n",
       "    }\n",
       "\n",
       "    .dataframe tbody tr th {\n",
       "        vertical-align: top;\n",
       "    }\n",
       "\n",
       "    .dataframe thead th {\n",
       "        text-align: right;\n",
       "    }\n",
       "</style>\n",
       "<table border=\"1\" class=\"dataframe\">\n",
       "  <thead>\n",
       "    <tr style=\"text-align: right;\">\n",
       "      <th></th>\n",
       "      <th>employee_id</th>\n",
       "      <th>name</th>\n",
       "      <th>department_id</th>\n",
       "      <th>department_name</th>\n",
       "    </tr>\n",
       "  </thead>\n",
       "  <tbody>\n",
       "    <tr>\n",
       "      <th>0</th>\n",
       "      <td>NaN</td>\n",
       "      <td>None</td>\n",
       "      <td>104.0</td>\n",
       "      <td>Marketing</td>\n",
       "    </tr>\n",
       "    <tr>\n",
       "      <th>1</th>\n",
       "      <td>NaN</td>\n",
       "      <td>None</td>\n",
       "      <td>105.0</td>\n",
       "      <td>Finance</td>\n",
       "    </tr>\n",
       "    <tr>\n",
       "      <th>2</th>\n",
       "      <td>1.0</td>\n",
       "      <td>Alice</td>\n",
       "      <td>101.0</td>\n",
       "      <td>HR</td>\n",
       "    </tr>\n",
       "    <tr>\n",
       "      <th>3</th>\n",
       "      <td>2.0</td>\n",
       "      <td>Bob</td>\n",
       "      <td>102.0</td>\n",
       "      <td>Engineering</td>\n",
       "    </tr>\n",
       "    <tr>\n",
       "      <th>4</th>\n",
       "      <td>3.0</td>\n",
       "      <td>Charlie</td>\n",
       "      <td>101.0</td>\n",
       "      <td>HR</td>\n",
       "    </tr>\n",
       "    <tr>\n",
       "      <th>5</th>\n",
       "      <td>4.0</td>\n",
       "      <td>David</td>\n",
       "      <td>NaN</td>\n",
       "      <td>None</td>\n",
       "    </tr>\n",
       "    <tr>\n",
       "      <th>6</th>\n",
       "      <td>5.0</td>\n",
       "      <td>Eva</td>\n",
       "      <td>103.0</td>\n",
       "      <td>None</td>\n",
       "    </tr>\n",
       "  </tbody>\n",
       "</table>\n",
       "</div>"
      ],
      "text/plain": [
       "   employee_id     name  department_id department_name\n",
       "0          NaN     None          104.0       Marketing\n",
       "1          NaN     None          105.0         Finance\n",
       "2          1.0    Alice          101.0              HR\n",
       "3          2.0      Bob          102.0     Engineering\n",
       "4          3.0  Charlie          101.0              HR\n",
       "5          4.0    David            NaN            None\n",
       "6          5.0      Eva          103.0            None"
      ]
     },
     "metadata": {},
     "output_type": "display_data"
    },
    {
     "data": {
      "image/png": "[encoded data removed]",
      "text/plain": [
       "<Figure size 1200x600 with 1 Axes>"
      ]
     },
     "metadata": {},
     "output_type": "display_data"
    },
    {
     "name": "stdout",
     "output_type": "stream",
     "text": [
      "\n",
      "FULL OUTER JOIN (SQL): Returns all rows from both tables\n",
      "------------------------------------------------------\n",
      "All employees (5) and departments (4) included in the result\n",
      "Matching records have complete data\n",
      "Non-matching records have NULL values for the unmatched table\n",
      "Total rows in result: 7\n"
     ]
    }
   ],
   "source": [
    "# Perform FULL OUTER JOIN (simulated with UNION of LEFT and RIGHT joins) using SQLAlchemy\n",
    "query = \"\"\"\n",
    "    SELECT e.employee_id, e.name, COALESCE(e.department_id, d.department_id) as department_id, d.department_name\n",
    "    FROM employees e\n",
    "    LEFT JOIN departments d ON e.department_id = d.department_id\n",
    "    \n",
    "    UNION\n",
    "    \n",
    "    SELECT e.employee_id, e.name, d.department_id, d.department_name\n",
    "    FROM departments d\n",
    "    LEFT JOIN employees e ON d.department_id = e.department_id\n",
    "    WHERE e.employee_id IS NULL\n",
    "\"\"\"\n",
    "\n",
    "with engine.connect() as conn:\n",
    "    full_outer_join_result = pd.read_sql_query(query, conn)\n",
    "\n",
    "print(\"FULL OUTER JOIN Result (simulated in SQLite):\")\n",
    "display(full_outer_join_result)\n",
    "\n",
    "# Visualize the FULL OUTER JOIN with a Venn diagram-like plot\n",
    "plt.figure(figsize=(12, 6))\n",
    "\n",
    "# Create a scatter plot with two circles representing the tables\n",
    "theta = np.linspace(0, 2 * np.pi, 100)\n",
    "\n",
    "# Employee circle (blue)\n",
    "r1 = 1\n",
    "x1 = r1 * np.cos(theta) - 0.5\n",
    "y1 = r1 * np.sin(theta)\n",
    "plt.plot(x1, y1, 'b-')\n",
    "plt.fill(x1, y1, 'lightblue', alpha=0.5, label='Employees')\n",
    "\n",
    "# Department circle (green)\n",
    "r2 = 1\n",
    "x2 = r2 * np.cos(theta) + 0.5\n",
    "y2 = r2 * np.sin(theta)\n",
    "plt.plot(x2, y2, 'g-')\n",
    "plt.fill(x2, y2, 'lightgreen', alpha=0.5, label='Departments')\n",
    "\n",
    "# Intersection darker\n",
    "plt.fill_between([-0.5, 0.5], -np.sqrt(0.75), np.sqrt(0.75), color='darkblue', alpha=0.5, label='Matching records')\n",
    "\n",
    "plt.text(-1.2, 0, \"Employees without\\nmatching departments\\n(NULL for dept columns)\", fontsize=10)\n",
    "plt.text(1.2, 0, \"Departments without\\nmatching employees\\n(NULL for emp columns)\", fontsize=10)\n",
    "plt.text(0, 0, \"Matched\\nrecords\", fontsize=10, ha='center', color='white')\n",
    "\n",
    "plt.axis('equal')\n",
    "plt.axis('off')\n",
    "plt.title('FULL OUTER JOIN Visualization')\n",
    "plt.legend(loc='upper center', bbox_to_anchor=(0.5, -0.05), ncol=3)\n",
    "plt.tight_layout()\n",
    "plt.show()\n",
    "\n",
    "# Also present the result in text form for clarity\n",
    "print(\"\\nFULL OUTER JOIN (SQL): Returns all rows from both tables\")\n",
    "print(\"------------------------------------------------------\")\n",
    "print(\"All employees (5) and departments (4) included in the result\")\n",
    "print(\"Matching records have complete data\")\n",
    "print(\"Non-matching records have NULL values for the unmatched table\")\n",
    "print(\"Total rows in result: 7\")"
   ]
  },
  {
   "cell_type": "markdown",
   "id": "9a641d88",
   "metadata": {},
   "source": [
    "## 4.5 CROSS JOIN\n",
    "\n",
    "A CROSS JOIN returns the Cartesian product of the two tables - every row from the first table is paired with every row from the second table. This can result in a very large result set."
   ]
  },
  {
   "cell_type": "code",
   "execution_count": 96,
   "id": "a03b8158",
   "metadata": {},
   "outputs": [
    {
     "name": "stdout",
     "output_type": "stream",
     "text": [
      "CROSS JOIN Result:\n"
     ]
    },
    {
     "data": {
      "application/vnd.microsoft.datawrangler.viewer.v0+json": {
       "columns": [
        {
         "name": "index",
         "rawType": "int64",
         "type": "integer"
        },
        {
         "name": "employee_id",
         "rawType": "int64",
         "type": "integer"
        },
        {
         "name": "name",
         "rawType": "object",
         "type": "string"
        },
        {
         "name": "emp_dept_id",
         "rawType": "float64",
         "type": "float"
        },
        {
         "name": "dept_id",
         "rawType": "int64",
         "type": "integer"
        },
        {
         "name": "department_name",
         "rawType": "object",
         "type": "string"
        }
       ],
       "ref": "f9a52ada-33f7-426b-a96e-765f97484b9b",
       "rows": [
        [
         "0",
         "1",
         "Alice",
         "101.0",
         "101",
         "HR"
        ],
        [
         "1",
         "1",
         "Alice",
         "101.0",
         "102",
         "Engineering"
        ],
        [
         "2",
         "1",
         "Alice",
         "101.0",
         "104",
         "Marketing"
        ],
        [
         "3",
         "1",
         "Alice",
         "101.0",
         "105",
         "Finance"
        ],
        [
         "4",
         "2",
         "Bob",
         "102.0",
         "101",
         "HR"
        ],
        [
         "5",
         "2",
         "Bob",
         "102.0",
         "102",
         "Engineering"
        ],
        [
         "6",
         "2",
         "Bob",
         "102.0",
         "104",
         "Marketing"
        ],
        [
         "7",
         "2",
         "Bob",
         "102.0",
         "105",
         "Finance"
        ],
        [
         "8",
         "3",
         "Charlie",
         "101.0",
         "101",
         "HR"
        ],
        [
         "9",
         "3",
         "Charlie",
         "101.0",
         "102",
         "Engineering"
        ],
        [
         "10",
         "3",
         "Charlie",
         "101.0",
         "104",
         "Marketing"
        ],
        [
         "11",
         "3",
         "Charlie",
         "101.0",
         "105",
         "Finance"
        ],
        [
         "12",
         "4",
         "David",
         null,
         "101",
         "HR"
        ],
        [
         "13",
         "4",
         "David",
         null,
         "102",
         "Engineering"
        ],
        [
         "14",
         "4",
         "David",
         null,
         "104",
         "Marketing"
        ],
        [
         "15",
         "4",
         "David",
         null,
         "105",
         "Finance"
        ],
        [
         "16",
         "5",
         "Eva",
         "103.0",
         "101",
         "HR"
        ],
        [
         "17",
         "5",
         "Eva",
         "103.0",
         "102",
         "Engineering"
        ],
        [
         "18",
         "5",
         "Eva",
         "103.0",
         "104",
         "Marketing"
        ],
        [
         "19",
         "5",
         "Eva",
         "103.0",
         "105",
         "Finance"
        ]
       ],
       "shape": {
        "columns": 5,
        "rows": 20
       }
      },
      "text/html": [
       "<div>\n",
       "<style scoped>\n",
       "    .dataframe tbody tr th:only-of-type {\n",
       "        vertical-align: middle;\n",
       "    }\n",
       "\n",
       "    .dataframe tbody tr th {\n",
       "        vertical-align: top;\n",
       "    }\n",
       "\n",
       "    .dataframe thead th {\n",
       "        text-align: right;\n",
       "    }\n",
       "</style>\n",
       "<table border=\"1\" class=\"dataframe\">\n",
       "  <thead>\n",
       "    <tr style=\"text-align: right;\">\n",
       "      <th></th>\n",
       "      <th>employee_id</th>\n",
       "      <th>name</th>\n",
       "      <th>emp_dept_id</th>\n",
       "      <th>dept_id</th>\n",
       "      <th>department_name</th>\n",
       "    </tr>\n",
       "  </thead>\n",
       "  <tbody>\n",
       "    <tr>\n",
       "      <th>0</th>\n",
       "      <td>1</td>\n",
       "      <td>Alice</td>\n",
       "      <td>101.0</td>\n",
       "      <td>101</td>\n",
       "      <td>HR</td>\n",
       "    </tr>\n",
       "    <tr>\n",
       "      <th>1</th>\n",
       "      <td>1</td>\n",
       "      <td>Alice</td>\n",
       "      <td>101.0</td>\n",
       "      <td>102</td>\n",
       "      <td>Engineering</td>\n",
       "    </tr>\n",
       "    <tr>\n",
       "      <th>2</th>\n",
       "      <td>1</td>\n",
       "      <td>Alice</td>\n",
       "      <td>101.0</td>\n",
       "      <td>104</td>\n",
       "      <td>Marketing</td>\n",
       "    </tr>\n",
       "    <tr>\n",
       "      <th>3</th>\n",
       "      <td>1</td>\n",
       "      <td>Alice</td>\n",
       "      <td>101.0</td>\n",
       "      <td>105</td>\n",
       "      <td>Finance</td>\n",
       "    </tr>\n",
       "    <tr>\n",
       "      <th>4</th>\n",
       "      <td>2</td>\n",
       "      <td>Bob</td>\n",
       "      <td>102.0</td>\n",
       "      <td>101</td>\n",
       "      <td>HR</td>\n",
       "    </tr>\n",
       "    <tr>\n",
       "      <th>5</th>\n",
       "      <td>2</td>\n",
       "      <td>Bob</td>\n",
       "      <td>102.0</td>\n",
       "      <td>102</td>\n",
       "      <td>Engineering</td>\n",
       "    </tr>\n",
       "    <tr>\n",
       "      <th>6</th>\n",
       "      <td>2</td>\n",
       "      <td>Bob</td>\n",
       "      <td>102.0</td>\n",
       "      <td>104</td>\n",
       "      <td>Marketing</td>\n",
       "    </tr>\n",
       "    <tr>\n",
       "      <th>7</th>\n",
       "      <td>2</td>\n",
       "      <td>Bob</td>\n",
       "      <td>102.0</td>\n",
       "      <td>105</td>\n",
       "      <td>Finance</td>\n",
       "    </tr>\n",
       "    <tr>\n",
       "      <th>8</th>\n",
       "      <td>3</td>\n",
       "      <td>Charlie</td>\n",
       "      <td>101.0</td>\n",
       "      <td>101</td>\n",
       "      <td>HR</td>\n",
       "    </tr>\n",
       "    <tr>\n",
       "      <th>9</th>\n",
       "      <td>3</td>\n",
       "      <td>Charlie</td>\n",
       "      <td>101.0</td>\n",
       "      <td>102</td>\n",
       "      <td>Engineering</td>\n",
       "    </tr>\n",
       "    <tr>\n",
       "      <th>10</th>\n",
       "      <td>3</td>\n",
       "      <td>Charlie</td>\n",
       "      <td>101.0</td>\n",
       "      <td>104</td>\n",
       "      <td>Marketing</td>\n",
       "    </tr>\n",
       "    <tr>\n",
       "      <th>11</th>\n",
       "      <td>3</td>\n",
       "      <td>Charlie</td>\n",
       "      <td>101.0</td>\n",
       "      <td>105</td>\n",
       "      <td>Finance</td>\n",
       "    </tr>\n",
       "    <tr>\n",
       "      <th>12</th>\n",
       "      <td>4</td>\n",
       "      <td>David</td>\n",
       "      <td>NaN</td>\n",
       "      <td>101</td>\n",
       "      <td>HR</td>\n",
       "    </tr>\n",
       "    <tr>\n",
       "      <th>13</th>\n",
       "      <td>4</td>\n",
       "      <td>David</td>\n",
       "      <td>NaN</td>\n",
       "      <td>102</td>\n",
       "      <td>Engineering</td>\n",
       "    </tr>\n",
       "    <tr>\n",
       "      <th>14</th>\n",
       "      <td>4</td>\n",
       "      <td>David</td>\n",
       "      <td>NaN</td>\n",
       "      <td>104</td>\n",
       "      <td>Marketing</td>\n",
       "    </tr>\n",
       "    <tr>\n",
       "      <th>15</th>\n",
       "      <td>4</td>\n",
       "      <td>David</td>\n",
       "      <td>NaN</td>\n",
       "      <td>105</td>\n",
       "      <td>Finance</td>\n",
       "    </tr>\n",
       "    <tr>\n",
       "      <th>16</th>\n",
       "      <td>5</td>\n",
       "      <td>Eva</td>\n",
       "      <td>103.0</td>\n",
       "      <td>101</td>\n",
       "      <td>HR</td>\n",
       "    </tr>\n",
       "    <tr>\n",
       "      <th>17</th>\n",
       "      <td>5</td>\n",
       "      <td>Eva</td>\n",
       "      <td>103.0</td>\n",
       "      <td>102</td>\n",
       "      <td>Engineering</td>\n",
       "    </tr>\n",
       "    <tr>\n",
       "      <th>18</th>\n",
       "      <td>5</td>\n",
       "      <td>Eva</td>\n",
       "      <td>103.0</td>\n",
       "      <td>104</td>\n",
       "      <td>Marketing</td>\n",
       "    </tr>\n",
       "    <tr>\n",
       "      <th>19</th>\n",
       "      <td>5</td>\n",
       "      <td>Eva</td>\n",
       "      <td>103.0</td>\n",
       "      <td>105</td>\n",
       "      <td>Finance</td>\n",
       "    </tr>\n",
       "  </tbody>\n",
       "</table>\n",
       "</div>"
      ],
      "text/plain": [
       "    employee_id     name  emp_dept_id  dept_id department_name\n",
       "0             1    Alice        101.0      101              HR\n",
       "1             1    Alice        101.0      102     Engineering\n",
       "2             1    Alice        101.0      104       Marketing\n",
       "3             1    Alice        101.0      105         Finance\n",
       "4             2      Bob        102.0      101              HR\n",
       "5             2      Bob        102.0      102     Engineering\n",
       "6             2      Bob        102.0      104       Marketing\n",
       "7             2      Bob        102.0      105         Finance\n",
       "8             3  Charlie        101.0      101              HR\n",
       "9             3  Charlie        101.0      102     Engineering\n",
       "10            3  Charlie        101.0      104       Marketing\n",
       "11            3  Charlie        101.0      105         Finance\n",
       "12            4    David          NaN      101              HR\n",
       "13            4    David          NaN      102     Engineering\n",
       "14            4    David          NaN      104       Marketing\n",
       "15            4    David          NaN      105         Finance\n",
       "16            5      Eva        103.0      101              HR\n",
       "17            5      Eva        103.0      102     Engineering\n",
       "18            5      Eva        103.0      104       Marketing\n",
       "19            5      Eva        103.0      105         Finance"
      ]
     },
     "metadata": {},
     "output_type": "display_data"
    },
    {
     "data": {
      "image/png": "[encoded data removed]",
      "text/plain": [
       "<Figure size 1000x600 with 2 Axes>"
      ]
     },
     "metadata": {},
     "output_type": "display_data"
    },
    {
     "name": "stdout",
     "output_type": "stream",
     "text": [
      "\n",
      "CROSS JOIN (SQL): Returns the Cartesian product of both tables\n",
      "--------------------------------------------------------\n",
      "All possible combinations of employees and departments\n",
      "Total rows in result: 20 (5 employees × 4 departments)\n",
      "Note: No relationship or matching condition is used in a CROSS JOIN\n"
     ]
    }
   ],
   "source": [
    "# Perform CROSS JOIN using SQLAlchemy\n",
    "query = \"\"\"\n",
    "    SELECT e.employee_id, e.name, e.department_id as emp_dept_id, d.department_id as dept_id, d.department_name\n",
    "    FROM employees e\n",
    "    CROSS JOIN departments d\n",
    "\"\"\"\n",
    "\n",
    "with engine.connect() as conn:\n",
    "    cross_join_result = pd.read_sql_query(query, conn)\n",
    "\n",
    "print(\"CROSS JOIN Result:\")\n",
    "display(cross_join_result)\n",
    "\n",
    "# Create a matrix visualization of the CROSS JOIN\n",
    "plt.figure(figsize=(10, 6))\n",
    "\n",
    "# Get unique employees and departments for matrix visualization\n",
    "employees_list = employees_df['name'].tolist()\n",
    "departments_list = departments_df['department_name'].tolist()\n",
    "\n",
    "# Create a grid\n",
    "grid = np.zeros((len(employees_list), len(departments_list)))\n",
    "grid[:] = 1  # All combinations exist in a CROSS JOIN\n",
    "\n",
    "# Plot the grid as a heatmap\n",
    "plt.imshow(grid, cmap='Blues', interpolation='none')\n",
    "plt.xticks(np.arange(len(departments_list)), departments_list, rotation=45)\n",
    "plt.yticks(np.arange(len(employees_list)), employees_list)\n",
    "plt.xlabel('Departments')\n",
    "plt.ylabel('Employees')\n",
    "plt.title('CROSS JOIN Visualization (All Possible Combinations)')\n",
    "plt.colorbar(label='Included in result')\n",
    "plt.tight_layout()\n",
    "plt.show()\n",
    "\n",
    "# Also present the result in text form for clarity\n",
    "print(\"\\nCROSS JOIN (SQL): Returns the Cartesian product of both tables\")\n",
    "print(\"--------------------------------------------------------\")\n",
    "print(\"All possible combinations of employees and departments\")\n",
    "print(f\"Total rows in result: {len(employees_df) * len(departments_df)} (5 employees × 4 departments)\")\n",
    "print(\"Note: No relationship or matching condition is used in a CROSS JOIN\")"
   ]
  },
  {
   "cell_type": "markdown",
   "id": "a0529a7b",
   "metadata": {},
   "source": [
    "## 4.6 SELF JOIN\n",
    "\n",
    "A SELF JOIN is when a table is joined with itself. This is useful for querying hierarchical data or comparing rows within the same table. Let's create a new table to demonstrate this concept."
   ]
  },
  {
   "cell_type": "code",
   "execution_count": 97,
   "id": "4c8d0545",
   "metadata": {},
   "outputs": [
    {
     "name": "stdout",
     "output_type": "stream",
     "text": [
      "Employees Hierarchy Table:\n"
     ]
    },
    {
     "data": {
      "application/vnd.microsoft.datawrangler.viewer.v0+json": {
       "columns": [
        {
         "name": "index",
         "rawType": "int64",
         "type": "integer"
        },
        {
         "name": "employee_id",
         "rawType": "int64",
         "type": "integer"
        },
        {
         "name": "name",
         "rawType": "object",
         "type": "string"
        },
        {
         "name": "manager_id",
         "rawType": "float64",
         "type": "float"
        }
       ],
       "ref": "420e9f47-f6f4-40a4-a575-0b98c18cf22e",
       "rows": [
        [
         "0",
         "101",
         "John",
         null
        ],
        [
         "1",
         "102",
         "Mary",
         "101.0"
        ],
        [
         "2",
         "103",
         "Steve",
         "101.0"
        ],
        [
         "3",
         "104",
         "Anna",
         "102.0"
        ],
        [
         "4",
         "105",
         "Mike",
         "102.0"
        ],
        [
         "5",
         "106",
         "Sarah",
         "103.0"
        ]
       ],
       "shape": {
        "columns": 3,
        "rows": 6
       }
      },
      "text/html": [
       "<div>\n",
       "<style scoped>\n",
       "    .dataframe tbody tr th:only-of-type {\n",
       "        vertical-align: middle;\n",
       "    }\n",
       "\n",
       "    .dataframe tbody tr th {\n",
       "        vertical-align: top;\n",
       "    }\n",
       "\n",
       "    .dataframe thead th {\n",
       "        text-align: right;\n",
       "    }\n",
       "</style>\n",
       "<table border=\"1\" class=\"dataframe\">\n",
       "  <thead>\n",
       "    <tr style=\"text-align: right;\">\n",
       "      <th></th>\n",
       "      <th>employee_id</th>\n",
       "      <th>name</th>\n",
       "      <th>manager_id</th>\n",
       "    </tr>\n",
       "  </thead>\n",
       "  <tbody>\n",
       "    <tr>\n",
       "      <th>0</th>\n",
       "      <td>101</td>\n",
       "      <td>John</td>\n",
       "      <td>NaN</td>\n",
       "    </tr>\n",
       "    <tr>\n",
       "      <th>1</th>\n",
       "      <td>102</td>\n",
       "      <td>Mary</td>\n",
       "      <td>101.0</td>\n",
       "    </tr>\n",
       "    <tr>\n",
       "      <th>2</th>\n",
       "      <td>103</td>\n",
       "      <td>Steve</td>\n",
       "      <td>101.0</td>\n",
       "    </tr>\n",
       "    <tr>\n",
       "      <th>3</th>\n",
       "      <td>104</td>\n",
       "      <td>Anna</td>\n",
       "      <td>102.0</td>\n",
       "    </tr>\n",
       "    <tr>\n",
       "      <th>4</th>\n",
       "      <td>105</td>\n",
       "      <td>Mike</td>\n",
       "      <td>102.0</td>\n",
       "    </tr>\n",
       "    <tr>\n",
       "      <th>5</th>\n",
       "      <td>106</td>\n",
       "      <td>Sarah</td>\n",
       "      <td>103.0</td>\n",
       "    </tr>\n",
       "  </tbody>\n",
       "</table>\n",
       "</div>"
      ],
      "text/plain": [
       "   employee_id   name  manager_id\n",
       "0          101   John         NaN\n",
       "1          102   Mary       101.0\n",
       "2          103  Steve       101.0\n",
       "3          104   Anna       102.0\n",
       "4          105   Mike       102.0\n",
       "5          106  Sarah       103.0"
      ]
     },
     "metadata": {},
     "output_type": "display_data"
    },
    {
     "name": "stdout",
     "output_type": "stream",
     "text": [
      "SELF JOIN Result:\n"
     ]
    },
    {
     "data": {
      "application/vnd.microsoft.datawrangler.viewer.v0+json": {
       "columns": [
        {
         "name": "index",
         "rawType": "int64",
         "type": "integer"
        },
        {
         "name": "employee_id",
         "rawType": "int64",
         "type": "integer"
        },
        {
         "name": "employee_name",
         "rawType": "object",
         "type": "string"
        },
        {
         "name": "manager_id",
         "rawType": "float64",
         "type": "float"
        },
        {
         "name": "manager_name",
         "rawType": "object",
         "type": "unknown"
        }
       ],
       "ref": "f8710896-589f-40c9-bbdc-9ca3759c1b31",
       "rows": [
        [
         "0",
         "101",
         "John",
         null,
         null
        ],
        [
         "1",
         "102",
         "Mary",
         "101.0",
         "John"
        ],
        [
         "2",
         "103",
         "Steve",
         "101.0",
         "John"
        ],
        [
         "3",
         "104",
         "Anna",
         "102.0",
         "Mary"
        ],
        [
         "4",
         "105",
         "Mike",
         "102.0",
         "Mary"
        ],
        [
         "5",
         "106",
         "Sarah",
         "103.0",
         "Steve"
        ]
       ],
       "shape": {
        "columns": 4,
        "rows": 6
       }
      },
      "text/html": [
       "<div>\n",
       "<style scoped>\n",
       "    .dataframe tbody tr th:only-of-type {\n",
       "        vertical-align: middle;\n",
       "    }\n",
       "\n",
       "    .dataframe tbody tr th {\n",
       "        vertical-align: top;\n",
       "    }\n",
       "\n",
       "    .dataframe thead th {\n",
       "        text-align: right;\n",
       "    }\n",
       "</style>\n",
       "<table border=\"1\" class=\"dataframe\">\n",
       "  <thead>\n",
       "    <tr style=\"text-align: right;\">\n",
       "      <th></th>\n",
       "      <th>employee_id</th>\n",
       "      <th>employee_name</th>\n",
       "      <th>manager_id</th>\n",
       "      <th>manager_name</th>\n",
       "    </tr>\n",
       "  </thead>\n",
       "  <tbody>\n",
       "    <tr>\n",
       "      <th>0</th>\n",
       "      <td>101</td>\n",
       "      <td>John</td>\n",
       "      <td>NaN</td>\n",
       "      <td>None</td>\n",
       "    </tr>\n",
       "    <tr>\n",
       "      <th>1</th>\n",
       "      <td>102</td>\n",
       "      <td>Mary</td>\n",
       "      <td>101.0</td>\n",
       "      <td>John</td>\n",
       "    </tr>\n",
       "    <tr>\n",
       "      <th>2</th>\n",
       "      <td>103</td>\n",
       "      <td>Steve</td>\n",
       "      <td>101.0</td>\n",
       "      <td>John</td>\n",
       "    </tr>\n",
       "    <tr>\n",
       "      <th>3</th>\n",
       "      <td>104</td>\n",
       "      <td>Anna</td>\n",
       "      <td>102.0</td>\n",
       "      <td>Mary</td>\n",
       "    </tr>\n",
       "    <tr>\n",
       "      <th>4</th>\n",
       "      <td>105</td>\n",
       "      <td>Mike</td>\n",
       "      <td>102.0</td>\n",
       "      <td>Mary</td>\n",
       "    </tr>\n",
       "    <tr>\n",
       "      <th>5</th>\n",
       "      <td>106</td>\n",
       "      <td>Sarah</td>\n",
       "      <td>103.0</td>\n",
       "      <td>Steve</td>\n",
       "    </tr>\n",
       "  </tbody>\n",
       "</table>\n",
       "</div>"
      ],
      "text/plain": [
       "   employee_id employee_name  manager_id manager_name\n",
       "0          101          John         NaN         None\n",
       "1          102          Mary       101.0         John\n",
       "2          103         Steve       101.0         John\n",
       "3          104          Anna       102.0         Mary\n",
       "4          105          Mike       102.0         Mary\n",
       "5          106         Sarah       103.0        Steve"
      ]
     },
     "metadata": {},
     "output_type": "display_data"
    },
    {
     "data": {
      "image/png": "[encoded data removed]",
      "text/plain": [
       "<Figure size 1000x600 with 1 Axes>"
      ]
     },
     "metadata": {},
     "output_type": "display_data"
    },
    {
     "name": "stdout",
     "output_type": "stream",
     "text": [
      "\n",
      "SELF JOIN: Joining a table with itself to establish relationships within the data\n",
      "--------------------------------------------------------------------------\n",
      "Hierarchy shown: Each employee and their manager\n",
      "John (101): Top manager (no manager)\n",
      "Mary (102): Managed by John\n",
      "Steve (103): Managed by John\n",
      "Anna (104): Managed by Mary\n",
      "Mike (105): Managed by Mary\n",
      "Sarah (106): Managed by Steve\n"
     ]
    }
   ],
   "source": [
    "# Create sample data for employee hierarchy\n",
    "employees_hierarchy_data = {\n",
    "    'employee_id': [101, 102, 103, 104, 105, 106],\n",
    "    'name': ['John', 'Mary', 'Steve', 'Anna', 'Mike', 'Sarah'],\n",
    "    'manager_id': [None, 101, 101, 102, 102, 103]\n",
    "}\n",
    "\n",
    "# Create DataFrame and add to database\n",
    "employees_hierarchy_df = pd.DataFrame(employees_hierarchy_data)\n",
    "employees_hierarchy_df.to_sql('employees_hierarchy', engine, index=False)\n",
    "\n",
    "print(\"Employees Hierarchy Table:\")\n",
    "display(employees_hierarchy_df)\n",
    "\n",
    "# Perform SELF JOIN to find each employee's manager using SQLAlchemy\n",
    "query = \"\"\"\n",
    "    SELECT e.employee_id, e.name as employee_name, e.manager_id, m.name as manager_name\n",
    "    FROM employees_hierarchy e\n",
    "    LEFT JOIN employees_hierarchy m ON e.manager_id = m.employee_id\n",
    "    ORDER BY e.manager_id NULLS FIRST\n",
    "\"\"\"\n",
    "\n",
    "with engine.connect() as conn:\n",
    "    self_join_result = pd.read_sql_query(query, conn)\n",
    "\n",
    "print(\"SELF JOIN Result:\")\n",
    "display(self_join_result)\n",
    "\n",
    "# Visualize the employee hierarchy in a tree-like structure\n",
    "plt.figure(figsize=(10, 6))\n",
    "\n",
    "# Create a dictionary of employees by ID\n",
    "employees_dict = {row['employee_id']: row for _, row in employees_hierarchy_df.iterrows()}\n",
    "\n",
    "# Plot connections between managers and their direct reports\n",
    "for _, row in employees_hierarchy_df.iterrows():\n",
    "    # Check both for None and NaN values\n",
    "    if pd.notna(row['manager_id']):\n",
    "        manager = employees_dict[row['manager_id']]\n",
    "        plt.plot([manager['employee_id'], row['employee_id']], [0, -1], 'b-', alpha=0.5)\n",
    "        \n",
    "# Plot employee points with different colors for managers vs employees\n",
    "for _, row in employees_hierarchy_df.iterrows():\n",
    "    is_manager = any(pd.notna(r['manager_id']) and r['manager_id'] == row['employee_id'] for _, r in employees_hierarchy_df.iterrows())\n",
    "    color = 'red' if pd.isna(row['manager_id']) else ('green' if is_manager else 'blue')\n",
    "    marker = '^' if pd.isna(row['manager_id']) else ('s' if is_manager else 'o')\n",
    "    pos_y = 0 if pd.isna(row['manager_id']) else -1\n",
    "    plt.plot(row['employee_id'], pos_y, marker, markersize=10, color=color)\n",
    "    plt.annotate(row['name'], (row['employee_id'], pos_y), \n",
    "                 xytext=(0, -10), textcoords='offset points', \n",
    "                 ha='center', va='center')\n",
    "\n",
    "plt.title('Employee Hierarchy (SELF JOIN example)')\n",
    "plt.yticks([-1, 0], ['Employees', 'Top Manager'])\n",
    "plt.xticks([])\n",
    "plt.grid(axis='y', linestyle='--', alpha=0.7)\n",
    "plt.tight_layout()\n",
    "plt.show()\n",
    "\n",
    "# Also present the result in text form for clarity\n",
    "print(\"\\nSELF JOIN: Joining a table with itself to establish relationships within the data\")\n",
    "print(\"--------------------------------------------------------------------------\")\n",
    "print(\"Hierarchy shown: Each employee and their manager\")\n",
    "print(\"John (101): Top manager (no manager)\")\n",
    "print(\"Mary (102): Managed by John\")\n",
    "print(\"Steve (103): Managed by John\")\n",
    "print(\"Anna (104): Managed by Mary\")\n",
    "print(\"Mike (105): Managed by Mary\")\n",
    "print(\"Sarah (106): Managed by Steve\")"
   ]
  },
  {
   "cell_type": "markdown",
   "id": "8a9f4ac2",
   "metadata": {},
   "source": [
    "# 5. Summary and Conclusion\n",
    "\n",
    "In this notebook, we have demonstrated various types of SQL joins:\n",
    "\n",
    "1. **INNER JOIN**: Returns only matching rows between tables\n",
    "2. **LEFT JOIN**: Returns all rows from the left table and matching rows from the right\n",
    "3. **RIGHT JOIN**: Returns all rows from the right table and matching rows from the left\n",
    "4. **FULL OUTER JOIN**: Returns all rows from both tables\n",
    "5. **CROSS JOIN**: Returns the Cartesian product of both tables\n",
    "6. **SELF JOIN**: Joins a table to itself to establish relationships within the data\n",
    "7. **NATURAL JOIN**: Automatically joins tables based on columns with matching names\n",
    "8. **NON-EQUI JOIN**: Uses comparison operators other than equality for join conditions\n",
    "\n",
    "These join operations are fundamental to SQL database operations and are essential for combining data from multiple tables in meaningful ways. Understanding the different types of joins enables more powerful and flexible data querying and analysis."
   ]
  },
  {
   "cell_type": "markdown",
   "id": "acc291df",
   "metadata": {},
   "source": [
    "# 6. Additional Join Types\n",
    "\n",
    "In addition to the six join types demonstrated above, there are other important SQL join types worth knowing:\n",
    "\n",
    "## NATURAL JOIN\n",
    "\n",
    "A NATURAL JOIN is a special type of join that automatically joins tables based on columns with matching names.\n",
    "\n",
    "- It automatically identifies columns with the **same name** in both tables\n",
    "- Creates an implicit join condition based on these matching columns\n",
    "- Only includes one copy of each matching column in the result\n",
    "- Can be INNER, LEFT, or RIGHT (though most commonly implemented as an INNER join)\n",
    "\n",
    "### Example:\n",
    "```sql\n",
    "-- If both tables have 'department_id' columns, this automatically joins on that column\n",
    "SELECT * FROM employees NATURAL JOIN departments;\n",
    "```\n",
    "\n",
    "## NON-EQUI JOIN\n",
    "\n",
    "Non-equi joins use comparison operators other than equality (`=`) in the join condition.\n",
    "\n",
    "- Uses operators like `>`, `<`, `>=`, `<=`, `BETWEEN`, etc.\n",
    "- Useful for range-based comparisons or when exact matches are not desired\n",
    "- Often used for:\n",
    "  - Finding ranges (salary bands, date ranges)\n",
    "  - Hierarchical data\n",
    "  - Identifying gaps or overlaps\n",
    "\n",
    "### Example:\n",
    "```sql\n",
    "-- Find employees whose salary is within a specific salary range\n",
    "SELECT e.name, e.salary, g.grade\n",
    "FROM employees e\n",
    "JOIN salary_grades g\n",
    "ON e.salary BETWEEN g.min_salary AND g.max_salary;\n",
    "```\n",
    "\n",
    "These additional join types expand the SQL join toolkit and provide more specialized ways to combine data from multiple tables."
   ]
  }
 ],
 "metadata": {
  "kernelspec": {
   "display_name": ".venv",
   "language": "python",
   "name": "python3"
  },
  "language_info": {
   "codemirror_mode": {
    "name": "ipython",
    "version": 3
   },
   "file_extension": ".py",
   "mimetype": "text/x-python",
   "name": "python",
   "nbconvert_exporter": "python",
   "pygments_lexer": "ipython3",
   "version": "3.13.4"
  }
 },
 "nbformat": 4,
 "nbformat_minor": 5
}
