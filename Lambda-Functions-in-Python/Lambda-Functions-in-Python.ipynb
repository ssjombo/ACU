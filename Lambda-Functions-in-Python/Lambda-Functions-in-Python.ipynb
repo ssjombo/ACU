{
 "cells": [
  {
   "cell_type": "markdown",
   "id": "ad567118",
   "metadata": {},
   "source": [
    "# Lambda Functions in Python\n",
    "\n",
    "Lambda functions in Python are anonymous functions that can be defined inline. They are useful for short, simple functions that can be defined in a single expression. This notebook demonstrates various examples of using lambda functions with different Python built-in functions and operations."
   ]
  },
  {
   "cell_type": "markdown",
   "id": "5e8eb988",
   "metadata": {},
   "source": [
    "## Example 1: Basic Syntax\n",
    "Comparing regular functions with lambda functions."
   ]
  },
  {
   "cell_type": "code",
   "execution_count": 4,
   "id": "9a60e59b",
   "metadata": {},
   "outputs": [
    {
     "name": "stdout",
     "output_type": "stream",
     "text": [
      "Result (Regular Function): 8\n",
      "Result (Lambda Function): 8\n"
     ]
    }
   ],
   "source": [
    "# Example 1: Basic Syntax\n",
    "# Regular function\n",
    "def add(x, y):\n",
    "    return x + y\n",
    "\n",
    "# Equivalent lambda function\n",
    "lambda_add = lambda x, y: x + y\n",
    "\n",
    "# Using both functions\n",
    "result_regular = add(3, 5)\n",
    "result_lambda = lambda_add(3, 5)\n",
    "print(\"Result (Regular Function):\", result_regular)\n",
    "print(\"Result (Lambda Function):\", result_lambda)"
   ]
  },
  {
   "cell_type": "markdown",
   "id": "d79aa611",
   "metadata": {},
   "source": [
    "## Example 2: Sorting with Lambda\n",
    "Using lambda functions with the `sorted()` function to sort data structures."
   ]
  },
  {
   "cell_type": "code",
   "execution_count": 5,
   "id": "ddeca89a",
   "metadata": {},
   "outputs": [
    {
     "name": "stdout",
     "output_type": "stream",
     "text": [
      "Sorted Students by Age: [('Charlie', 22), ('Alice', 25), ('Bob', 30)]\n"
     ]
    }
   ],
   "source": [
    "# Example 2: Sorting with Lambda\n",
    "# List of tuples\n",
    "\n",
    "students = [(\"Alice\", 25), (\"Bob\", 30), (\"Charlie\", 22)]\n",
    "# Sort by age using a Lambda function\n",
    "sorted_students = sorted(students, key=lambda student: student[1])\n",
    "print(\"Sorted Students by Age:\", sorted_students)"
   ]
  },
  {
   "cell_type": "markdown",
   "id": "71a727ae",
   "metadata": {},
   "source": [
    "## Example 3: Filtering with Lambda\n",
    "Using lambda functions with the `filter()` function to filter collections."
   ]
  },
  {
   "cell_type": "code",
   "execution_count": 6,
   "id": "2f2c8e18",
   "metadata": {},
   "outputs": [
    {
     "name": "stdout",
     "output_type": "stream",
     "text": [
      "Even Numbers: [2, 4, 6, 8]\n"
     ]
    }
   ],
   "source": [
    "# Example 3: Filtering with Lambda\n",
    "# List of numbers\n",
    "numbers = [1, 2, 3, 4, 5, 6, 7, 8, 9]\n",
    "# Filter even numbers using a Lambda function\n",
    "even_numbers = list(filter(lambda x: x % 2 == 0, numbers))\n",
    "print(\"Even Numbers:\", even_numbers)"
   ]
  },
  {
   "cell_type": "markdown",
   "id": "c43fa796",
   "metadata": {},
   "source": [
    "## Example 4: Mapping with Lambda\n",
    "Using lambda functions with the `map()` function to transform collections."
   ]
  },
  {
   "cell_type": "code",
   "execution_count": 7,
   "id": "4f09e726",
   "metadata": {},
   "outputs": [
    {
     "name": "stdout",
     "output_type": "stream",
     "text": [
      "Squared Numbers: [1, 4, 9, 16, 25]\n"
     ]
    }
   ],
   "source": [
    "# Example 4: Mapping with Lambda\n",
    "# List of numbers\n",
    "numbers = [1, 2, 3, 4, 5]\n",
    "# Square each number using a Lambda function\n",
    "squared_numbers = list(map(lambda x: x**2, numbers))\n",
    "print(\"Squared Numbers:\", squared_numbers)"
   ]
  },
  {
   "cell_type": "markdown",
   "id": "2e29f2fb",
   "metadata": {},
   "source": [
    "## Example 5: Using Lambda with max function\n",
    "Using lambda functions with the `max()` function to find extremes."
   ]
  },
  {
   "cell_type": "code",
   "execution_count": 8,
   "id": "935c2082",
   "metadata": {},
   "outputs": [
    {
     "name": "stdout",
     "output_type": "stream",
     "text": [
      "Maximum Number: 5\n"
     ]
    }
   ],
   "source": [
    "# Example 5: Using Lambda with max function\n",
    "# List of numbers\n",
    "numbers = [10, 5, 8, 20, 15]\n",
    "# Find the maximum number using a Lambda function\n",
    "max_number = max(numbers, key=lambda x: -x)  # Use negation for finding minimum\n",
    "print(\"Maximum Number:\", max_number)"
   ]
  },
  {
   "cell_type": "markdown",
   "id": "4a4079a6",
   "metadata": {},
   "source": [
    "## Example 6: Using Lambda with sorted and Multiple Criteria\n",
    "Using lambda functions to sort by multiple criteria."
   ]
  },
  {
   "cell_type": "code",
   "execution_count": 9,
   "id": "c208c869",
   "metadata": {},
   "outputs": [
    {
     "name": "stdout",
     "output_type": "stream",
     "text": [
      "Sorted People: [{'name': 'Charlie', 'age': 22}, {'name': 'Alice', 'age': 25}, {'name': 'Bob', 'age': 30}]\n"
     ]
    }
   ],
   "source": [
    "# Example 6: Using Lambda with sorted and Multiple Criteria\n",
    "# List of dictionaries representing people with names and ages\n",
    "people = [{\"name\": \"Alice\", \"age\": 25}, {\"name\": \"Bob\", \"age\": 30}, {\"name\": \"Charlie\", \"age\": 22}]\n",
    "# Sort by age and then by name using a Lambda function\n",
    "sorted_people = sorted(people, key=lambda person: (person[\"age\"], person[\"name\"]))\n",
    "print(\"Sorted People:\", sorted_people)"
   ]
  },
  {
   "cell_type": "markdown",
   "id": "d3714ee9",
   "metadata": {},
   "source": [
    "## Example 7: Using Lambda with reduce from functools\n",
    "Using lambda functions with the `reduce()` function for cumulative operations."
   ]
  },
  {
   "cell_type": "code",
   "execution_count": 10,
   "id": "e2306783",
   "metadata": {},
   "outputs": [
    {
     "name": "stdout",
     "output_type": "stream",
     "text": [
      "Product of Numbers: 120\n"
     ]
    }
   ],
   "source": [
    "# Example 7: Using Lambda with reduce from functools\n",
    "from functools import reduce\n",
    "# List of numbers\n",
    "numbers = [1, 2, 3, 4, 5]\n",
    "# Calculate the product of all numbers using a Lambda function and reduce\n",
    "product = reduce(lambda x, y: x * y, numbers)\n",
    "print(\"Product of Numbers:\", product)"
   ]
  },
  {
   "cell_type": "markdown",
   "id": "4876877c",
   "metadata": {},
   "source": [
    "## Example 8: Using Lambda with Conditional Expressions\n",
    "Using lambda functions with conditional expressions (ternary operator)."
   ]
  },
  {
   "cell_type": "code",
   "execution_count": 11,
   "id": "f76c7629",
   "metadata": {},
   "outputs": [
    {
     "name": "stdout",
     "output_type": "stream",
     "text": [
      "Filtered and Squared Numbers: [100, 5, 64, 400, 15]\n"
     ]
    }
   ],
   "source": [
    "# Example 8: Using Lambda with Conditional Expressions\n",
    "# List of numbers\n",
    "numbers = [10, 5, 8, 20, 15]\n",
    "# Use a Lambda function with a conditional expression to filter and square even numbers\n",
    "filtered_and_squared = list(map(lambda x: x**2 if x % 2 == 0 else x, numbers))\n",
    "print(\"Filtered and Squared Numbers:\", filtered_and_squared)"
   ]
  },
  {
   "cell_type": "markdown",
   "id": "a59c6f17",
   "metadata": {},
   "source": [
    "## Example 9: Using Lambda with key in max and min to Find Extremes\n",
    "Using lambda functions with `max()` and `min()` to find extremes in complex data structures."
   ]
  },
  {
   "cell_type": "code",
   "execution_count": 12,
   "id": "4aa448f0",
   "metadata": {},
   "outputs": [
    {
     "name": "stdout",
     "output_type": "stream",
     "text": [
      "Most Expensive Product: ('Laptop', 1200)\n",
      "Least Expensive Product: ('Smartwatch', 200)\n"
     ]
    }
   ],
   "source": [
    "# Example 9: Using Lambda with key in max and min to Find Extremes\n",
    "# List of tuples representing products with names and prices\n",
    "products = [(\"Laptop\", 1200), (\"Phone\", 800), (\"Tablet\", 500), (\"Smartwatch\", 200)]\n",
    "# Find the most and least expensive products using Lambda functions\n",
    "most_expensive = max(products, key=lambda item: item[1])\n",
    "least_expensive = min(products, key=lambda item: item[1])\n",
    "print(\"Most Expensive Product:\", most_expensive)\n",
    "print(\"Least Expensive Product:\", least_expensive)"
   ]
  }
 ],
 "metadata": {
  "kernelspec": {
   "display_name": ".venv",
   "language": "python",
   "name": "python3"
  },
  "language_info": {
   "codemirror_mode": {
    "name": "ipython",
    "version": 3
   },
   "file_extension": ".py",
   "mimetype": "text/x-python",
   "name": "python",
   "nbconvert_exporter": "python",
   "pygments_lexer": "ipython3",
   "version": "3.13.5"
  }
 },
 "nbformat": 4,
 "nbformat_minor": 5
}
